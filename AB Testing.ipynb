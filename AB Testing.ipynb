{
 "cells": [
  {
   "cell_type": "markdown",
   "metadata": {},
   "source": [
    "# A/B Test Analysis Project"
   ]
  },
  {
   "cell_type": "markdown",
   "metadata": {},
   "source": [
    "* Contents <a id='back'></a>\n",
    "\n",
    "* [Introduction](#intro)\n",
    "* [General information of the datasets](#general)\n",
    "* [Optimizing the data for analysis](#optimize)\n",
    "* [Checking for duplicates and missing values](#check)\n",
    "* [Prioritizing Hypotheses](#prioritizing)\n",
    "* [A/B Test Analysis](#abtest)\n",
    "    * [Cumulative revenue by group](#6.1)\n",
    "    * [Cumulative average order size by group](#6.2)\n",
    "    * [The relative difference in cumulative average order size for group B compared with group A](#6.3)\n",
    "    * [Each group's conversion rate as the ratio of orders to the number of visits for each day. The daily conversion rates of the two groups](#6.4)\n",
    "    * [The number of orders per user](#6.5)\n",
    "    * [The 95th and 99th percentiles for the number of orders per user](#6.6)\n",
    "    * [Plot a scatter chart of order prices](#6.7)\n",
    "    * [The 95th and 99th percentiles of order prices](#6.8)\n",
    "    * [The statistical significance of the difference in conversion between the groups](#6.9)\n",
    "    * [The statistical significance of the difference in average order size between the groups](#6.10)\n",
    "    * [The statistical significance of the difference in conversion between the groups using the filtered data](#6.11)\n",
    "    * [The statistical significance of the difference in average order size between the groups using the filtered data](#6.12)\n",
    "    * [Make a decision based on the test results. The possible decisions are: 1. Stop the test, consider one of the groups the leader. 2. Stop the test, conclude that there is no difference between the groups. 3. Continue the test](#6.13)"
   ]
  },
  {
   "cell_type": "markdown",
   "metadata": {},
   "source": [
    "## Introduction"
   ]
  },
  {
   "cell_type": "markdown",
   "metadata": {},
   "source": [
    "A/B testing is a methodology for comparing two versions of a webpage or app against each other to determine which one performs better. In our case, we want to boost revenue of a big online store.\n",
    "\n",
    "The project contains 3 datasets:\n",
    "1. Hypotheses - contains several hypotheses and their `reach`, `impact`, `confidence`, and `effort` points.\n",
    "2. Orders - contains order identifier, user identifier, date, revenue, and test group that the user belongs to.\n",
    "3. Visits - contains date, group, and number of visits\n",
    "\n",
    "Together with the marketing department, we've compiled a list of hypotheses that may help boost revenue. We need to prioritize these hypotheses, launch an A/B test, and analyze the results.\n",
    "\n",
    "* Step 1: Optimizing Data-\n",
    "    Change column names, check for missing and duplicated values and optimize the data for analysis.\n",
    "    \n",
    "* Step 2: Prioritizing Hypotheses-\n",
    "    Aplly the `ICE` and `RICE` framework to prioritize hypotheses. Show how the prioritization of hypotheses changes when you use RICE instead of ICE.\n",
    "    \n",
    "* Step 3: A/B Test Analysis-\n",
    "    Graph charts, calculate conversion rates and percentiles, find statistical significance and make decision based on the test results.\n"
   ]
  },
  {
   "cell_type": "markdown",
   "metadata": {},
   "source": [
    "## General Information of the datasets <a id='general'></a>"
   ]
  },
  {
   "cell_type": "code",
   "execution_count": 75,
   "metadata": {},
   "outputs": [],
   "source": [
    "#Import relevant libraries\n",
    "import pandas as pd\n",
    "import numpy as np\n",
    "import seaborn as sns\n",
    "from matplotlib import pyplot as plt\n",
    "import datetime as dt\n",
    "import scipy.stats as stats"
   ]
  },
  {
   "cell_type": "markdown",
   "metadata": {},
   "source": [
    "* `hipotheses` data frame"
   ]
  },
  {
   "cell_type": "code",
   "execution_count": 76,
   "metadata": {},
   "outputs": [
    {
     "name": "stdout",
     "output_type": "stream",
     "text": [
      "<class 'pandas.core.frame.DataFrame'>\n",
      "RangeIndex: 9 entries, 0 to 8\n",
      "Data columns (total 5 columns):\n",
      " #   Column      Non-Null Count  Dtype \n",
      "---  ------      --------------  ----- \n",
      " 0   Hypothesis  9 non-null      object\n",
      " 1   Reach       9 non-null      int64 \n",
      " 2   Impact      9 non-null      int64 \n",
      " 3   Confidence  9 non-null      int64 \n",
      " 4   Effort      9 non-null      int64 \n",
      "dtypes: int64(4), object(1)\n",
      "memory usage: 488.0+ bytes\n",
      "None\n"
     ]
    }
   ],
   "source": [
    "#Read 'htpotheses' data frame\n",
    "hypotheses = pd.read_csv('/datasets/hypotheses_us.csv', sep=';')\n",
    "print(hypotheses.info())"
   ]
  },
  {
   "cell_type": "markdown",
   "metadata": {},
   "source": [
    "There are 5 columns and 9 rows each in `hepotheses` data frame. The data frame contains hypotheses with Reach,Impact,Confidence and Effort specified for each. Lowercase the column name will make it easier to work on the data. The data types are acceptable."
   ]
  },
  {
   "cell_type": "markdown",
   "metadata": {},
   "source": [
    "* `orders` data frame"
   ]
  },
  {
   "cell_type": "code",
   "execution_count": 77,
   "metadata": {},
   "outputs": [
    {
     "name": "stdout",
     "output_type": "stream",
     "text": [
      "<class 'pandas.core.frame.DataFrame'>\n",
      "RangeIndex: 1197 entries, 0 to 1196\n",
      "Data columns (total 5 columns):\n",
      " #   Column         Non-Null Count  Dtype  \n",
      "---  ------         --------------  -----  \n",
      " 0   transactionId  1197 non-null   int64  \n",
      " 1   visitorId      1197 non-null   int64  \n",
      " 2   date           1197 non-null   object \n",
      " 3   revenue        1197 non-null   float64\n",
      " 4   group          1197 non-null   object \n",
      "dtypes: float64(1), int64(2), object(2)\n",
      "memory usage: 46.9+ KB\n",
      "None\n"
     ]
    }
   ],
   "source": [
    "#Read 'orders' data frame\n",
    "orders = pd.read_csv('/datasets/orders_us.csv')\n",
    "print(orders.info())"
   ]
  },
  {
   "cell_type": "markdown",
   "metadata": {},
   "source": [
    "There are 5 columns and 1197 rows in `orders` data frame. "
   ]
  },
  {
   "cell_type": "markdown",
   "metadata": {},
   "source": [
    "* `visits` data frame"
   ]
  },
  {
   "cell_type": "code",
   "execution_count": 78,
   "metadata": {},
   "outputs": [
    {
     "name": "stdout",
     "output_type": "stream",
     "text": [
      "<class 'pandas.core.frame.DataFrame'>\n",
      "RangeIndex: 62 entries, 0 to 61\n",
      "Data columns (total 3 columns):\n",
      " #   Column  Non-Null Count  Dtype \n",
      "---  ------  --------------  ----- \n",
      " 0   date    62 non-null     object\n",
      " 1   group   62 non-null     object\n",
      " 2   visits  62 non-null     int64 \n",
      "dtypes: int64(1), object(2)\n",
      "memory usage: 1.6+ KB\n",
      "None\n"
     ]
    }
   ],
   "source": [
    "#Read 'visits' data frame\n",
    "visits = pd.read_csv('/datasets/visits_us.csv')\n",
    "print(visits.info())"
   ]
  },
  {
   "cell_type": "markdown",
   "metadata": {},
   "source": [
    "[Back to Contents](#back)"
   ]
  },
  {
   "cell_type": "markdown",
   "metadata": {},
   "source": [
    "## Optimizing the data for analysis <a id='optimize'></a>"
   ]
  },
  {
   "cell_type": "markdown",
   "metadata": {},
   "source": [
    "The `hypotheses` columns will be changed to lowercase, and the column `\"date\"` of visits data frame will be changed to `datetime64[ns]`."
   ]
  },
  {
   "cell_type": "code",
   "execution_count": 79,
   "metadata": {},
   "outputs": [
    {
     "name": "stdout",
     "output_type": "stream",
     "text": [
      "<class 'pandas.core.frame.DataFrame'>\n",
      "RangeIndex: 62 entries, 0 to 61\n",
      "Data columns (total 3 columns):\n",
      " #   Column  Non-Null Count  Dtype         \n",
      "---  ------  --------------  -----         \n",
      " 0   date    62 non-null     datetime64[ns]\n",
      " 1   group   62 non-null     object        \n",
      " 2   visits  62 non-null     int64         \n",
      "dtypes: datetime64[ns](1), int64(1), object(1)\n",
      "memory usage: 1.6+ KB\n"
     ]
    }
   ],
   "source": [
    "#Rename columns name using rename() method\n",
    "hypotheses.rename(columns={'Hypothesis': 'hypothesis', 'Reach': 'reach', 'Impact': 'impact', 'Confidence': 'confidence', 'Effort': 'effort'}, inplace=True)\n",
    "hypotheses\n",
    "orders['date'] = orders['date'].map(\n",
    "    lambda x: dt.datetime.strptime(x, '%Y-%m-%d')\n",
    ")\n",
    "visits['date'] = visits['date'].map(\n",
    "    lambda x: dt.datetime.strptime(x, '%Y-%m-%d')\n",
    ")\n",
    "visits.info()"
   ]
  },
  {
   "cell_type": "markdown",
   "metadata": {},
   "source": [
    "## Checking for duplicates and missing values <a id='check'></a>"
   ]
  },
  {
   "cell_type": "markdown",
   "metadata": {},
   "source": [
    "The `analyze_data` function will check for missing values(using `isna()` method) and duplicated values(using `duplicated()` method). Since `hypotheses` data frame contains only 9 columns we will not check for missing or duplicated values for this dataset."
   ]
  },
  {
   "cell_type": "code",
   "execution_count": 80,
   "metadata": {},
   "outputs": [],
   "source": [
    "def analyze_data(df):\n",
    "\n",
    "    # Missing values\n",
    "    print(df.isna().sum())\n",
    "    print()\n",
    "\n",
    "    # Duplicates\n",
    "    \n",
    "    print(df.duplicated().sum())\n",
    "    print()\n",
    "\n",
    "    # Random rows\n",
    "    display(df.sample(10))"
   ]
  },
  {
   "cell_type": "markdown",
   "metadata": {},
   "source": [
    "Check for `orders` data frame"
   ]
  },
  {
   "cell_type": "code",
   "execution_count": 81,
   "metadata": {},
   "outputs": [
    {
     "name": "stdout",
     "output_type": "stream",
     "text": [
      "transactionId    0\n",
      "visitorId        0\n",
      "date             0\n",
      "revenue          0\n",
      "group            0\n",
      "dtype: int64\n",
      "\n",
      "0\n",
      "\n"
     ]
    },
    {
     "data": {
      "text/html": [
       "<div>\n",
       "<style scoped>\n",
       "    .dataframe tbody tr th:only-of-type {\n",
       "        vertical-align: middle;\n",
       "    }\n",
       "\n",
       "    .dataframe tbody tr th {\n",
       "        vertical-align: top;\n",
       "    }\n",
       "\n",
       "    .dataframe thead th {\n",
       "        text-align: right;\n",
       "    }\n",
       "</style>\n",
       "<table border=\"1\" class=\"dataframe\">\n",
       "  <thead>\n",
       "    <tr style=\"text-align: right;\">\n",
       "      <th></th>\n",
       "      <th>transactionId</th>\n",
       "      <th>visitorId</th>\n",
       "      <th>date</th>\n",
       "      <th>revenue</th>\n",
       "      <th>group</th>\n",
       "    </tr>\n",
       "  </thead>\n",
       "  <tbody>\n",
       "    <tr>\n",
       "      <th>995</th>\n",
       "      <td>3465107905</td>\n",
       "      <td>2075883701</td>\n",
       "      <td>2019-08-31</td>\n",
       "      <td>45.2</td>\n",
       "      <td>B</td>\n",
       "    </tr>\n",
       "    <tr>\n",
       "      <th>765</th>\n",
       "      <td>1457259561</td>\n",
       "      <td>2421265884</td>\n",
       "      <td>2019-08-07</td>\n",
       "      <td>20.2</td>\n",
       "      <td>B</td>\n",
       "    </tr>\n",
       "    <tr>\n",
       "      <th>91</th>\n",
       "      <td>3176574859</td>\n",
       "      <td>2742574263</td>\n",
       "      <td>2019-08-22</td>\n",
       "      <td>275.9</td>\n",
       "      <td>B</td>\n",
       "    </tr>\n",
       "    <tr>\n",
       "      <th>839</th>\n",
       "      <td>2368020497</td>\n",
       "      <td>2870367609</td>\n",
       "      <td>2019-08-21</td>\n",
       "      <td>25.7</td>\n",
       "      <td>B</td>\n",
       "    </tr>\n",
       "    <tr>\n",
       "      <th>1118</th>\n",
       "      <td>418108717</td>\n",
       "      <td>1985475298</td>\n",
       "      <td>2019-08-13</td>\n",
       "      <td>15.5</td>\n",
       "      <td>B</td>\n",
       "    </tr>\n",
       "    <tr>\n",
       "      <th>1067</th>\n",
       "      <td>3291040387</td>\n",
       "      <td>1263373242</td>\n",
       "      <td>2019-08-12</td>\n",
       "      <td>70.2</td>\n",
       "      <td>B</td>\n",
       "    </tr>\n",
       "    <tr>\n",
       "      <th>573</th>\n",
       "      <td>1887336629</td>\n",
       "      <td>6958315</td>\n",
       "      <td>2019-08-04</td>\n",
       "      <td>25.9</td>\n",
       "      <td>B</td>\n",
       "    </tr>\n",
       "    <tr>\n",
       "      <th>1194</th>\n",
       "      <td>1807773912</td>\n",
       "      <td>573423106</td>\n",
       "      <td>2019-08-14</td>\n",
       "      <td>165.3</td>\n",
       "      <td>A</td>\n",
       "    </tr>\n",
       "    <tr>\n",
       "      <th>1175</th>\n",
       "      <td>1373388206</td>\n",
       "      <td>3717692402</td>\n",
       "      <td>2019-08-14</td>\n",
       "      <td>40.9</td>\n",
       "      <td>B</td>\n",
       "    </tr>\n",
       "    <tr>\n",
       "      <th>908</th>\n",
       "      <td>3352225027</td>\n",
       "      <td>1807547430</td>\n",
       "      <td>2019-08-05</td>\n",
       "      <td>5.2</td>\n",
       "      <td>B</td>\n",
       "    </tr>\n",
       "  </tbody>\n",
       "</table>\n",
       "</div>"
      ],
      "text/plain": [
       "      transactionId   visitorId       date  revenue group\n",
       "995      3465107905  2075883701 2019-08-31     45.2     B\n",
       "765      1457259561  2421265884 2019-08-07     20.2     B\n",
       "91       3176574859  2742574263 2019-08-22    275.9     B\n",
       "839      2368020497  2870367609 2019-08-21     25.7     B\n",
       "1118      418108717  1985475298 2019-08-13     15.5     B\n",
       "1067     3291040387  1263373242 2019-08-12     70.2     B\n",
       "573      1887336629     6958315 2019-08-04     25.9     B\n",
       "1194     1807773912   573423106 2019-08-14    165.3     A\n",
       "1175     1373388206  3717692402 2019-08-14     40.9     B\n",
       "908      3352225027  1807547430 2019-08-05      5.2     B"
      ]
     },
     "metadata": {},
     "output_type": "display_data"
    }
   ],
   "source": [
    "analyze_data(orders)"
   ]
  },
  {
   "cell_type": "markdown",
   "metadata": {},
   "source": [
    "Check for `visits` data frame"
   ]
  },
  {
   "cell_type": "code",
   "execution_count": 82,
   "metadata": {},
   "outputs": [
    {
     "name": "stdout",
     "output_type": "stream",
     "text": [
      "date      0\n",
      "group     0\n",
      "visits    0\n",
      "dtype: int64\n",
      "\n",
      "0\n",
      "\n"
     ]
    },
    {
     "data": {
      "text/html": [
       "<div>\n",
       "<style scoped>\n",
       "    .dataframe tbody tr th:only-of-type {\n",
       "        vertical-align: middle;\n",
       "    }\n",
       "\n",
       "    .dataframe tbody tr th {\n",
       "        vertical-align: top;\n",
       "    }\n",
       "\n",
       "    .dataframe thead th {\n",
       "        text-align: right;\n",
       "    }\n",
       "</style>\n",
       "<table border=\"1\" class=\"dataframe\">\n",
       "  <thead>\n",
       "    <tr style=\"text-align: right;\">\n",
       "      <th></th>\n",
       "      <th>date</th>\n",
       "      <th>group</th>\n",
       "      <th>visits</th>\n",
       "    </tr>\n",
       "  </thead>\n",
       "  <tbody>\n",
       "    <tr>\n",
       "      <th>18</th>\n",
       "      <td>2019-08-19</td>\n",
       "      <td>A</td>\n",
       "      <td>502</td>\n",
       "    </tr>\n",
       "    <tr>\n",
       "      <th>40</th>\n",
       "      <td>2019-08-10</td>\n",
       "      <td>B</td>\n",
       "      <td>369</td>\n",
       "    </tr>\n",
       "    <tr>\n",
       "      <th>61</th>\n",
       "      <td>2019-08-31</td>\n",
       "      <td>B</td>\n",
       "      <td>718</td>\n",
       "    </tr>\n",
       "    <tr>\n",
       "      <th>16</th>\n",
       "      <td>2019-08-17</td>\n",
       "      <td>A</td>\n",
       "      <td>412</td>\n",
       "    </tr>\n",
       "    <tr>\n",
       "      <th>57</th>\n",
       "      <td>2019-08-27</td>\n",
       "      <td>B</td>\n",
       "      <td>720</td>\n",
       "    </tr>\n",
       "    <tr>\n",
       "      <th>38</th>\n",
       "      <td>2019-08-08</td>\n",
       "      <td>B</td>\n",
       "      <td>654</td>\n",
       "    </tr>\n",
       "    <tr>\n",
       "      <th>41</th>\n",
       "      <td>2019-08-11</td>\n",
       "      <td>B</td>\n",
       "      <td>721</td>\n",
       "    </tr>\n",
       "    <tr>\n",
       "      <th>46</th>\n",
       "      <td>2019-08-16</td>\n",
       "      <td>B</td>\n",
       "      <td>413</td>\n",
       "    </tr>\n",
       "    <tr>\n",
       "      <th>44</th>\n",
       "      <td>2019-08-14</td>\n",
       "      <td>B</td>\n",
       "      <td>746</td>\n",
       "    </tr>\n",
       "    <tr>\n",
       "      <th>0</th>\n",
       "      <td>2019-08-01</td>\n",
       "      <td>A</td>\n",
       "      <td>719</td>\n",
       "    </tr>\n",
       "  </tbody>\n",
       "</table>\n",
       "</div>"
      ],
      "text/plain": [
       "         date group  visits\n",
       "18 2019-08-19     A     502\n",
       "40 2019-08-10     B     369\n",
       "61 2019-08-31     B     718\n",
       "16 2019-08-17     A     412\n",
       "57 2019-08-27     B     720\n",
       "38 2019-08-08     B     654\n",
       "41 2019-08-11     B     721\n",
       "46 2019-08-16     B     413\n",
       "44 2019-08-14     B     746\n",
       "0  2019-08-01     A     719"
      ]
     },
     "metadata": {},
     "output_type": "display_data"
    }
   ],
   "source": [
    "analyze_data(visits)"
   ]
  },
  {
   "cell_type": "markdown",
   "metadata": {},
   "source": [
    "The output shows no missing or duplicated values."
   ]
  },
  {
   "cell_type": "markdown",
   "metadata": {},
   "source": [
    "* Check for users that participated in both groups."
   ]
  },
  {
   "cell_type": "code",
   "execution_count": 83,
   "metadata": {},
   "outputs": [],
   "source": [
    "# Find users who appear in more than one group\n",
    "group_counts = orders.groupby('visitorId')['group'].nunique()\n",
    "\n",
    "# Identify users who are in both groups\n",
    "multi_group_users = group_counts[group_counts > 1].index\n",
    "\n",
    "# Drop rows with these users\n",
    "orders = orders[~orders['visitorId'].isin(multi_group_users)]"
   ]
  },
  {
   "cell_type": "code",
   "execution_count": 84,
   "metadata": {},
   "outputs": [
    {
     "name": "stdout",
     "output_type": "stream",
     "text": [
      "<class 'pandas.core.frame.DataFrame'>\n",
      "Int64Index: 1016 entries, 0 to 1196\n",
      "Data columns (total 5 columns):\n",
      " #   Column         Non-Null Count  Dtype         \n",
      "---  ------         --------------  -----         \n",
      " 0   transactionId  1016 non-null   int64         \n",
      " 1   visitorId      1016 non-null   int64         \n",
      " 2   date           1016 non-null   datetime64[ns]\n",
      " 3   revenue        1016 non-null   float64       \n",
      " 4   group          1016 non-null   object        \n",
      "dtypes: datetime64[ns](1), float64(1), int64(2), object(1)\n",
      "memory usage: 47.6+ KB\n"
     ]
    }
   ],
   "source": [
    "orders.info()"
   ]
  },
  {
   "cell_type": "markdown",
   "metadata": {},
   "source": [
    "Filtered data contains 1016 rows. 181 rows were droped."
   ]
  },
  {
   "cell_type": "markdown",
   "metadata": {},
   "source": [
    "[Back to Contents](#back)"
   ]
  },
  {
   "cell_type": "markdown",
   "metadata": {},
   "source": [
    "## Prioritizing Hypotheses <a id='prioritizing'></a>"
   ]
  },
  {
   "cell_type": "markdown",
   "metadata": {},
   "source": [
    "* `ICE` score of hypotheses."
   ]
  },
  {
   "cell_type": "code",
   "execution_count": 85,
   "metadata": {
    "scrolled": true
   },
   "outputs": [
    {
     "data": {
      "text/html": [
       "<div>\n",
       "<style scoped>\n",
       "    .dataframe tbody tr th:only-of-type {\n",
       "        vertical-align: middle;\n",
       "    }\n",
       "\n",
       "    .dataframe tbody tr th {\n",
       "        vertical-align: top;\n",
       "    }\n",
       "\n",
       "    .dataframe thead th {\n",
       "        text-align: right;\n",
       "    }\n",
       "</style>\n",
       "<table border=\"1\" class=\"dataframe\">\n",
       "  <thead>\n",
       "    <tr style=\"text-align: right;\">\n",
       "      <th></th>\n",
       "      <th>hypothesis</th>\n",
       "      <th>reach</th>\n",
       "      <th>impact</th>\n",
       "      <th>confidence</th>\n",
       "      <th>effort</th>\n",
       "      <th>ice</th>\n",
       "    </tr>\n",
       "  </thead>\n",
       "  <tbody>\n",
       "    <tr>\n",
       "      <th>8</th>\n",
       "      <td>Launch a promotion that gives users discounts on their birthdays</td>\n",
       "      <td>1</td>\n",
       "      <td>9</td>\n",
       "      <td>9</td>\n",
       "      <td>5</td>\n",
       "      <td>16.20</td>\n",
       "    </tr>\n",
       "    <tr>\n",
       "      <th>0</th>\n",
       "      <td>Add two new channels for attracting traffic. This will bring 30% more users</td>\n",
       "      <td>3</td>\n",
       "      <td>10</td>\n",
       "      <td>8</td>\n",
       "      <td>6</td>\n",
       "      <td>13.33</td>\n",
       "    </tr>\n",
       "    <tr>\n",
       "      <th>7</th>\n",
       "      <td>Add a subscription form to all the main pages. This will help you compile a mailing list</td>\n",
       "      <td>10</td>\n",
       "      <td>7</td>\n",
       "      <td>8</td>\n",
       "      <td>5</td>\n",
       "      <td>11.20</td>\n",
       "    </tr>\n",
       "    <tr>\n",
       "      <th>6</th>\n",
       "      <td>Show banners with current offers and sales on the main page. This will boost conversion</td>\n",
       "      <td>5</td>\n",
       "      <td>3</td>\n",
       "      <td>8</td>\n",
       "      <td>3</td>\n",
       "      <td>8.00</td>\n",
       "    </tr>\n",
       "    <tr>\n",
       "      <th>2</th>\n",
       "      <td>Add product recommendation blocks to the store's site. This will increase conversion and average purchase size</td>\n",
       "      <td>8</td>\n",
       "      <td>3</td>\n",
       "      <td>7</td>\n",
       "      <td>3</td>\n",
       "      <td>7.00</td>\n",
       "    </tr>\n",
       "    <tr>\n",
       "      <th>1</th>\n",
       "      <td>Launch your own delivery service. This will shorten delivery time</td>\n",
       "      <td>2</td>\n",
       "      <td>5</td>\n",
       "      <td>4</td>\n",
       "      <td>10</td>\n",
       "      <td>2.00</td>\n",
       "    </tr>\n",
       "    <tr>\n",
       "      <th>5</th>\n",
       "      <td>Add a customer review page. This will increase the number of orders</td>\n",
       "      <td>3</td>\n",
       "      <td>2</td>\n",
       "      <td>2</td>\n",
       "      <td>3</td>\n",
       "      <td>1.33</td>\n",
       "    </tr>\n",
       "    <tr>\n",
       "      <th>3</th>\n",
       "      <td>Change the category structure. This will increase conversion since users will find the products they want more quickly</td>\n",
       "      <td>8</td>\n",
       "      <td>3</td>\n",
       "      <td>3</td>\n",
       "      <td>8</td>\n",
       "      <td>1.12</td>\n",
       "    </tr>\n",
       "    <tr>\n",
       "      <th>4</th>\n",
       "      <td>Change the background color on the main page. This will increase user engagement</td>\n",
       "      <td>3</td>\n",
       "      <td>1</td>\n",
       "      <td>1</td>\n",
       "      <td>1</td>\n",
       "      <td>1.00</td>\n",
       "    </tr>\n",
       "  </tbody>\n",
       "</table>\n",
       "</div>"
      ],
      "text/plain": [
       "                                                                                                               hypothesis  \\\n",
       "8                                                        Launch a promotion that gives users discounts on their birthdays   \n",
       "0                                             Add two new channels for attracting traffic. This will bring 30% more users   \n",
       "7                                Add a subscription form to all the main pages. This will help you compile a mailing list   \n",
       "6                                 Show banners with current offers and sales on the main page. This will boost conversion   \n",
       "2          Add product recommendation blocks to the store's site. This will increase conversion and average purchase size   \n",
       "1                                                       Launch your own delivery service. This will shorten delivery time   \n",
       "5                                                     Add a customer review page. This will increase the number of orders   \n",
       "3  Change the category structure. This will increase conversion since users will find the products they want more quickly   \n",
       "4                                        Change the background color on the main page. This will increase user engagement   \n",
       "\n",
       "   reach  impact  confidence  effort    ice  \n",
       "8      1       9           9       5  16.20  \n",
       "0      3      10           8       6  13.33  \n",
       "7     10       7           8       5  11.20  \n",
       "6      5       3           8       3   8.00  \n",
       "2      8       3           7       3   7.00  \n",
       "1      2       5           4      10   2.00  \n",
       "5      3       2           2       3   1.33  \n",
       "3      8       3           3       8   1.12  \n",
       "4      3       1           1       1   1.00  "
      ]
     },
     "execution_count": 85,
     "metadata": {},
     "output_type": "execute_result"
    }
   ],
   "source": [
    "#Calculate `ice` for the hypotheses\n",
    "hypotheses['ice'] = (hypotheses['impact']*hypotheses['confidence']/hypotheses['effort']).round(2)\n",
    "pd.options.display.max_colwidth = 210\n",
    "hypotheses.sort_values(by='ice', ascending=False)"
   ]
  },
  {
   "cell_type": "markdown",
   "metadata": {},
   "source": [
    "* `RICE` score of hypotheses."
   ]
  },
  {
   "cell_type": "code",
   "execution_count": 86,
   "metadata": {},
   "outputs": [
    {
     "data": {
      "text/html": [
       "<div>\n",
       "<style scoped>\n",
       "    .dataframe tbody tr th:only-of-type {\n",
       "        vertical-align: middle;\n",
       "    }\n",
       "\n",
       "    .dataframe tbody tr th {\n",
       "        vertical-align: top;\n",
       "    }\n",
       "\n",
       "    .dataframe thead th {\n",
       "        text-align: right;\n",
       "    }\n",
       "</style>\n",
       "<table border=\"1\" class=\"dataframe\">\n",
       "  <thead>\n",
       "    <tr style=\"text-align: right;\">\n",
       "      <th></th>\n",
       "      <th>hypothesis</th>\n",
       "      <th>reach</th>\n",
       "      <th>impact</th>\n",
       "      <th>confidence</th>\n",
       "      <th>effort</th>\n",
       "      <th>ice</th>\n",
       "      <th>rice</th>\n",
       "    </tr>\n",
       "  </thead>\n",
       "  <tbody>\n",
       "    <tr>\n",
       "      <th>7</th>\n",
       "      <td>Add a subscription form to all the main pages. This will help you compile a mailing list</td>\n",
       "      <td>10</td>\n",
       "      <td>7</td>\n",
       "      <td>8</td>\n",
       "      <td>5</td>\n",
       "      <td>11.20</td>\n",
       "      <td>112.0</td>\n",
       "    </tr>\n",
       "    <tr>\n",
       "      <th>2</th>\n",
       "      <td>Add product recommendation blocks to the store's site. This will increase conversion and average purchase size</td>\n",
       "      <td>8</td>\n",
       "      <td>3</td>\n",
       "      <td>7</td>\n",
       "      <td>3</td>\n",
       "      <td>7.00</td>\n",
       "      <td>56.0</td>\n",
       "    </tr>\n",
       "    <tr>\n",
       "      <th>0</th>\n",
       "      <td>Add two new channels for attracting traffic. This will bring 30% more users</td>\n",
       "      <td>3</td>\n",
       "      <td>10</td>\n",
       "      <td>8</td>\n",
       "      <td>6</td>\n",
       "      <td>13.33</td>\n",
       "      <td>40.0</td>\n",
       "    </tr>\n",
       "    <tr>\n",
       "      <th>6</th>\n",
       "      <td>Show banners with current offers and sales on the main page. This will boost conversion</td>\n",
       "      <td>5</td>\n",
       "      <td>3</td>\n",
       "      <td>8</td>\n",
       "      <td>3</td>\n",
       "      <td>8.00</td>\n",
       "      <td>40.0</td>\n",
       "    </tr>\n",
       "    <tr>\n",
       "      <th>8</th>\n",
       "      <td>Launch a promotion that gives users discounts on their birthdays</td>\n",
       "      <td>1</td>\n",
       "      <td>9</td>\n",
       "      <td>9</td>\n",
       "      <td>5</td>\n",
       "      <td>16.20</td>\n",
       "      <td>16.2</td>\n",
       "    </tr>\n",
       "    <tr>\n",
       "      <th>3</th>\n",
       "      <td>Change the category structure. This will increase conversion since users will find the products they want more quickly</td>\n",
       "      <td>8</td>\n",
       "      <td>3</td>\n",
       "      <td>3</td>\n",
       "      <td>8</td>\n",
       "      <td>1.12</td>\n",
       "      <td>9.0</td>\n",
       "    </tr>\n",
       "    <tr>\n",
       "      <th>1</th>\n",
       "      <td>Launch your own delivery service. This will shorten delivery time</td>\n",
       "      <td>2</td>\n",
       "      <td>5</td>\n",
       "      <td>4</td>\n",
       "      <td>10</td>\n",
       "      <td>2.00</td>\n",
       "      <td>4.0</td>\n",
       "    </tr>\n",
       "    <tr>\n",
       "      <th>5</th>\n",
       "      <td>Add a customer review page. This will increase the number of orders</td>\n",
       "      <td>3</td>\n",
       "      <td>2</td>\n",
       "      <td>2</td>\n",
       "      <td>3</td>\n",
       "      <td>1.33</td>\n",
       "      <td>4.0</td>\n",
       "    </tr>\n",
       "    <tr>\n",
       "      <th>4</th>\n",
       "      <td>Change the background color on the main page. This will increase user engagement</td>\n",
       "      <td>3</td>\n",
       "      <td>1</td>\n",
       "      <td>1</td>\n",
       "      <td>1</td>\n",
       "      <td>1.00</td>\n",
       "      <td>3.0</td>\n",
       "    </tr>\n",
       "  </tbody>\n",
       "</table>\n",
       "</div>"
      ],
      "text/plain": [
       "                                                                                                               hypothesis  \\\n",
       "7                                Add a subscription form to all the main pages. This will help you compile a mailing list   \n",
       "2          Add product recommendation blocks to the store's site. This will increase conversion and average purchase size   \n",
       "0                                             Add two new channels for attracting traffic. This will bring 30% more users   \n",
       "6                                 Show banners with current offers and sales on the main page. This will boost conversion   \n",
       "8                                                        Launch a promotion that gives users discounts on their birthdays   \n",
       "3  Change the category structure. This will increase conversion since users will find the products they want more quickly   \n",
       "1                                                       Launch your own delivery service. This will shorten delivery time   \n",
       "5                                                     Add a customer review page. This will increase the number of orders   \n",
       "4                                        Change the background color on the main page. This will increase user engagement   \n",
       "\n",
       "   reach  impact  confidence  effort    ice   rice  \n",
       "7     10       7           8       5  11.20  112.0  \n",
       "2      8       3           7       3   7.00   56.0  \n",
       "0      3      10           8       6  13.33   40.0  \n",
       "6      5       3           8       3   8.00   40.0  \n",
       "8      1       9           9       5  16.20   16.2  \n",
       "3      8       3           3       8   1.12    9.0  \n",
       "1      2       5           4      10   2.00    4.0  \n",
       "5      3       2           2       3   1.33    4.0  \n",
       "4      3       1           1       1   1.00    3.0  "
      ]
     },
     "execution_count": 86,
     "metadata": {},
     "output_type": "execute_result"
    }
   ],
   "source": [
    "#Calculate `rice` for the hypotheses\n",
    "hypotheses['rice'] = hypotheses['reach']*hypotheses['impact']*hypotheses['confidence']/hypotheses['effort']\n",
    "hypotheses.sort_values(by='rice', ascending=False)"
   ]
  },
  {
   "cell_type": "markdown",
   "metadata": {},
   "source": [
    "# Conclusion:\n",
    "There are large differences between the `ICE` and `RICE` points in most of the hypotheses. At first glance, we can see that 1, 3, 4, 5, and 8 have the lowest `ICE` and `RICE` points . The `RICE` point of 6th hypothesis is high, but we have another hypothesis (0 hypothesis) with the same `RICE` point and a higher `ICE` point. We have 3 options left. First we need to understand what `ICE` and `RICE` are.\n",
    "    \n",
    "*    RICE emphasizes scalability — something hard to implement but reaching many users might rank higher.\n",
    "*    ICE is more qualitative and quick — good for fast decisions when data is limited.\n",
    "\n",
    "In other words:\n",
    "*    Speed & simplicity? Favor ICE.\n",
    "*    Scalability & user impact? Favor RICE.\n",
    "\n",
    "We launch and A/B test in order to boost revenue. Revenue isn't just about how impactful an idea is — it's also how many people are affected. `RICE` includes \"Reach\", which helps prioritize ideas that scale across a bigger user base. We want a higher `RICE` point rather than `ICE` point. In our case, hypothesis 7 is more siutable, since it has the highest `RICE` point of 112.0."
   ]
  },
  {
   "cell_type": "markdown",
   "metadata": {},
   "source": [
    "## A/B Test Analysis <a id='abtest'></a>"
   ]
  },
  {
   "cell_type": "markdown",
   "metadata": {},
   "source": [
    "###  Cumulative revenue by group <a id='6.1'></a>"
   ]
  },
  {
   "cell_type": "markdown",
   "metadata": {},
   "source": [
    "* Cumulative revenue is the total revenue generated by a business or product over a certain period of time."
   ]
  },
  {
   "cell_type": "code",
   "execution_count": 87,
   "metadata": {},
   "outputs": [
    {
     "data": {
      "image/png": "[encoded data removed]",
      "text/plain": [
       "<Figure size 1500x800 with 1 Axes>"
      ]
     },
     "metadata": {},
     "output_type": "display_data"
    }
   ],
   "source": [
    "# building an array with unique paired date-group values\n",
    "datesGroups = orders[['date','group']].drop_duplicates()\n",
    "\n",
    "# getting aggregated cumulative daily data on orders \n",
    "ordersAggregated = datesGroups.apply(lambda x: orders[np.logical_and(orders['date'] <= x['date'], orders['group'] == x['group'])].agg({'date' : 'max', 'group' : 'max', 'transactionId' : pd.Series.nunique, 'visitorId' : pd.Series.nunique, 'revenue' : 'sum'}), axis=1).sort_values(by=['date','group'])\n",
    "\n",
    "# getting aggregated cumulative daily data on visitors  \n",
    "visitorsAggregated = datesGroups.apply(lambda x: visits[np.logical_and(visits['date'] <= x['date'], visits['group'] == x['group'])].agg({'date' : 'max', 'group' : 'max', 'visits' : 'sum'}), axis=1).sort_values(by=['date','group'])\n",
    "\n",
    "# merging the two tables into one and giving its columns descriptive names\n",
    "cumulativeData = ordersAggregated.merge(visitorsAggregated, left_on=['date', 'group'], right_on=['date', 'group'])\n",
    "cumulativeData.columns = ['date', 'group', 'orders', 'buyers', 'revenue', 'visits']\n",
    "\n",
    "# DataFrame with cumulative orders and cumulative revenue by day, group A\n",
    "cum_rev_A = cumulativeData[cumulativeData['group']=='A'][['date','revenue', 'orders']]\n",
    "\n",
    "# DataFrame with cumulative orders and cumulative revenue by day, group B\n",
    "cum_rev_B = cumulativeData[cumulativeData['group']=='B'][['date','revenue', 'orders']]\n",
    "\n",
    "plt.figure(figsize=(15,8))\n",
    "# Plotting the group A revenue graph \n",
    "plt.plot(cum_rev_A['date'], cum_rev_A['revenue'], label='A')\n",
    "\n",
    "# Plotting the group B revenue graph \n",
    "plt.plot(cum_rev_B['date'], cum_rev_B['revenue'], label='B')\n",
    "\n",
    "plt.xticks(rotation=45, ha='right')\n",
    "plt.title('Cumulative Revenue by Group')\n",
    "plt.xlabel('Date')\n",
    "plt.ylabel('Cumulative Revenue')\n",
    "plt.legend()\n",
    "plt.show()"
   ]
  },
  {
   "cell_type": "markdown",
   "metadata": {},
   "source": [
    "# Conclusions:\n",
    "*    Group B outperforms group A in cumulative revenue throughout the entire observation period.\n",
    "*    Both groups show a continuous increase in revenue, but group B but Group B's curve is steeper, meaning higher daily revenue on average.\n",
    "*    Group B generated ~44% more revenue than Group A\n",
    "\n",
    "# Conjectures:\n",
    "*    Group B’s variation introduced a change that improved revenue generation.\n",
    "*    Visitor behavior in Group B may have been more favorable, suggesting that the changes made for Group B increased user engagement or purchase frequency"
   ]
  },
  {
   "cell_type": "markdown",
   "metadata": {},
   "source": [
    "[Back to Contents](#back)"
   ]
  },
  {
   "cell_type": "markdown",
   "metadata": {},
   "source": [
    "### Cumulative average order size by group <a id='6.2'></a>"
   ]
  },
  {
   "cell_type": "code",
   "execution_count": 88,
   "metadata": {},
   "outputs": [
    {
     "data": {
      "image/png": "[encoded data removed]",
      "text/plain": [
       "<Figure size 1200x600 with 1 Axes>"
      ]
     },
     "metadata": {},
     "output_type": "display_data"
    }
   ],
   "source": [
    "# Plot\n",
    "plt.figure(figsize=(12, 6))\n",
    "\n",
    "plt.plot(cum_rev_A['date'], cum_rev_A['revenue']/cum_rev_A['orders'], label='A')\n",
    "plt.plot(cum_rev_B['date'], cum_rev_B['revenue']/cum_rev_B['orders'], label='B')\n",
    "\n",
    "plt.xticks(rotation=45, ha='right')\n",
    "plt.title('Cumulative Average Order Size by Group')\n",
    "plt.xlabel('Date')\n",
    "plt.ylabel('Average Order Size')\n",
    "plt.legend()\n",
    "plt.grid(True)\n",
    "plt.tight_layout()\n",
    "plt.legend()\n",
    "plt.show()"
   ]
  },
  {
   "cell_type": "markdown",
   "metadata": {},
   "source": [
    "# Conclusions:\n",
    "*    Group B has a higher average order value than Group A throughout the observed period.\n",
    "*    This could imply that whatever change or hypothesis was applied to Group B positively influenced customer spending behavior.\n",
    "\n",
    "# Conjectures:\n",
    "*    The hypothesis tested on Group B may have encouraged higher-value purchases.\n",
    "*    This result may justify implementing the tested changes in Group B across the entire platform if this difference proves statistically significant."
   ]
  },
  {
   "cell_type": "markdown",
   "metadata": {},
   "source": [
    "### The relative difference in cumulative average order size for group B compared with group A <a id='6.3'></a>"
   ]
  },
  {
   "cell_type": "code",
   "execution_count": 89,
   "metadata": {
    "scrolled": false
   },
   "outputs": [
    {
     "data": {
      "image/png": "[encoded data removed]",
      "text/plain": [
       "<Figure size 800x600 with 1 Axes>"
      ]
     },
     "metadata": {},
     "output_type": "display_data"
    }
   ],
   "source": [
    "# gathering the data into one DataFrame\n",
    "merged_cum_rev = cum_rev_A.merge(cum_rev_B, left_on='date', right_on='date', how='left', suffixes=['A', 'B'])\n",
    "\n",
    "plt.figure(figsize=(8, 6))\n",
    "# plotting a relative difference graph for the average purchase sizes\n",
    "plt.plot(merged_cum_rev['date'], (merged_cum_rev['revenueB']/merged_cum_rev['ordersB'])/(merged_cum_rev['revenueA']/merged_cum_rev['ordersA'])-1)\n",
    "\n",
    "# adding the X axis\n",
    "plt.title('Relative Difference in Cumulative Average Order Size (Group B vs Group A)')\n",
    "plt.xticks(rotation=45, ha='right')\n",
    "plt.xlabel('Date')\n",
    "plt.ylabel('Relative Difference (%)')\n",
    "plt.tight_layout()\n",
    "plt.show()"
   ]
  },
  {
   "cell_type": "markdown",
   "metadata": {},
   "source": [
    "# Conclusions:\n",
    "\n",
    "*    The graph showing the difference in average order size between the groups. We see that group B had a good start but then dropped by around 17% on August 13th, then peaked between positions 17-20."
   ]
  },
  {
   "cell_type": "markdown",
   "metadata": {},
   "source": [
    "[Back to Contents](#back)"
   ]
  },
  {
   "cell_type": "markdown",
   "metadata": {},
   "source": [
    "### Each group's conversion rate as the ratio of orders to the number of visits for each day. The daily conversion rates of the two groups <a id='6.4'></a>"
   ]
  },
  {
   "cell_type": "code",
   "execution_count": 90,
   "metadata": {
    "scrolled": false
   },
   "outputs": [
    {
     "data": {
      "image/png": "[encoded data removed]",
      "text/plain": [
       "<Figure size 1200x600 with 1 Axes>"
      ]
     },
     "metadata": {},
     "output_type": "display_data"
    }
   ],
   "source": [
    "# Prepare daily orders count per group\n",
    "daily_orders = orders.groupby(['date', 'group'])['transactionId'].count().reset_index()\n",
    "daily_orders = daily_orders.rename(columns={'transactionId': 'orders'})\n",
    "\n",
    "# Merge with visits data\n",
    "daily_data = pd.merge(visits, daily_orders, on=['date', 'group'], how='left')\n",
    "daily_data['orders'] = daily_data['orders'].fillna(0)\n",
    "\n",
    "# Calculate conversion rate\n",
    "daily_data['conversion_rate'] = daily_data['orders'] / daily_data['visits']\n",
    "\n",
    "# Pivot for plotting\n",
    "conversion_rates = daily_data.pivot(index='date', columns='group', values='conversion_rate')\n",
    "\n",
    "# Plot\n",
    "plt.figure(figsize=(12, 6))\n",
    "plt.plot(conversion_rates.index, conversion_rates['A'], label='Group A')\n",
    "plt.plot(conversion_rates.index, conversion_rates['B'], label='Group B')\n",
    "plt.title('Daily Conversion Rate by Group')\n",
    "plt.xlabel('Date')\n",
    "plt.ylabel('Conversion Rate')\n",
    "plt.legend()\n",
    "plt.grid(True)\n",
    "plt.tight_layout()\n",
    "plt.show()"
   ]
  },
  {
   "cell_type": "code",
   "execution_count": 91,
   "metadata": {},
   "outputs": [
    {
     "data": {
      "image/png": "[encoded data removed]",
      "text/plain": [
       "<Figure size 1200x600 with 1 Axes>"
      ]
     },
     "metadata": {},
     "output_type": "display_data"
    }
   ],
   "source": [
    "orders_daily = orders.groupby(['date', 'group'])['transactionId'].nunique().unstack().fillna(0)\n",
    "visits_daily = visits.groupby(['date', 'group'])['visits'].sum().unstack().fillna(0)\n",
    "\n",
    "# Ensure the index is sorted by date\n",
    "orders_daily = orders_daily.sort_index()\n",
    "visits_daily = visits_daily.sort_index()\n",
    "\n",
    "\n",
    "cumulative_orders = orders_daily.cumsum()\n",
    "cumulative_visits = visits_daily.cumsum()\n",
    "\n",
    "# Compute conversion rates\n",
    "conversion_A = cumulative_orders['A'] / cumulative_visits['A']\n",
    "conversion_B = cumulative_orders['B'] / cumulative_visits['B']\n",
    "\n",
    "# Compute relative difference\n",
    "relative_diff = (conversion_B - conversion_A) / conversion_A\n",
    "\n",
    "# Plot\n",
    "plt.figure(figsize=(12, 6))\n",
    "plt.plot(relative_diff.index, relative_diff, label='Relative Difference (B vs A)', color='darkorange')\n",
    "plt.axhline(0, linestyle='--', color='gray')\n",
    "plt.title('Relative Difference in Cumulative Conversion Rates (Group B vs A)')\n",
    "plt.xlabel('Date')\n",
    "plt.ylabel('Relative Difference')\n",
    "plt.grid(True)\n",
    "plt.legend()\n",
    "plt.tight_layout()\n",
    "plt.show()"
   ]
  },
  {
   "cell_type": "markdown",
   "metadata": {},
   "source": [
    "# Conclusions:\n",
    "*    Group B has a higher daily conversion rate than Group A across most of the experiment.\n",
    "\n",
    "*    This indicates that more visitors in Group B are placing orders, which supports the idea that the experiment had a positive impact.\n",
    "\n",
    "# Conjectures:\n",
    "*    The treatment applied to Group B likely increased engagement or trust, leading to more users completing purchases.\n",
    "\n",
    "*    The consistent advantage suggests that the difference is not due to random chance, and may warrant further statistical testing.\n",
    "\n",
    "*    A combination of higher conversion rate and larger order size in Group B implies a compounding positive effect from the tested change."
   ]
  },
  {
   "cell_type": "markdown",
   "metadata": {},
   "source": [
    "### The number of orders per user <a id='6.5'></a>"
   ]
  },
  {
   "cell_type": "code",
   "execution_count": 92,
   "metadata": {},
   "outputs": [
    {
     "data": {
      "image/png": "[encoded data removed]",
      "text/plain": [
       "<Figure size 1000x600 with 1 Axes>"
      ]
     },
     "metadata": {},
     "output_type": "display_data"
    }
   ],
   "source": [
    "# Count the number of orders per user\n",
    "orders_per_user = orders.groupby('visitorId')['transactionId'].count().reset_index()\n",
    "orders_per_user = orders_per_user.rename(columns={'transactionId': 'order_count'})\n",
    "\n",
    "# Plot scatter chart\n",
    "plt.figure(figsize=(10, 6))\n",
    "plt.scatter(range(len(orders_per_user)), orders_per_user['order_count'], alpha=0.6)\n",
    "plt.title('Number of Orders per User')\n",
    "plt.xlabel('User Index')\n",
    "plt.ylabel('Order Count')\n",
    "plt.grid(True)\n",
    "plt.tight_layout()\n",
    "plt.show()"
   ]
  },
  {
   "cell_type": "markdown",
   "metadata": {},
   "source": [
    "# Conclusions:\n",
    "*    Most users are one-time buyers, which is typical in many e-commerce scenarios.\n",
    "\n",
    "*    A small minority of repeat customers exist and could represent a valuable segment worth nurturing.\n",
    "\n",
    "# Conjectures:\n",
    "*    These repeat buyers might be highly engaged customers, possibly influenced by marketing campaigns, loyalty programs, or favorable product experience.\n",
    "\n",
    "*    Identifying and understanding what drives these users could help in designing strategies to increase customer retention and boost overall revenue."
   ]
  },
  {
   "cell_type": "markdown",
   "metadata": {},
   "source": [
    "[Back to Contents](#back)"
   ]
  },
  {
   "cell_type": "markdown",
   "metadata": {},
   "source": [
    "### The 95th and 99th percentiles for the number of orders per user <a id='6.6'></a>"
   ]
  },
  {
   "cell_type": "code",
   "execution_count": 93,
   "metadata": {},
   "outputs": [
    {
     "data": {
      "text/html": [
       "<div>\n",
       "<style scoped>\n",
       "    .dataframe tbody tr th:only-of-type {\n",
       "        vertical-align: middle;\n",
       "    }\n",
       "\n",
       "    .dataframe tbody tr th {\n",
       "        vertical-align: top;\n",
       "    }\n",
       "\n",
       "    .dataframe thead th {\n",
       "        text-align: right;\n",
       "    }\n",
       "</style>\n",
       "<table border=\"1\" class=\"dataframe\">\n",
       "  <thead>\n",
       "    <tr style=\"text-align: right;\">\n",
       "      <th></th>\n",
       "      <th>visitorId</th>\n",
       "      <th>orders</th>\n",
       "    </tr>\n",
       "  </thead>\n",
       "  <tbody>\n",
       "    <tr>\n",
       "      <th>908</th>\n",
       "      <td>3967698036</td>\n",
       "      <td>3</td>\n",
       "    </tr>\n",
       "    <tr>\n",
       "      <th>55</th>\n",
       "      <td>249864742</td>\n",
       "      <td>3</td>\n",
       "    </tr>\n",
       "    <tr>\n",
       "      <th>478</th>\n",
       "      <td>2108163459</td>\n",
       "      <td>3</td>\n",
       "    </tr>\n",
       "    <tr>\n",
       "      <th>687</th>\n",
       "      <td>2988190573</td>\n",
       "      <td>3</td>\n",
       "    </tr>\n",
       "    <tr>\n",
       "      <th>890</th>\n",
       "      <td>3908431265</td>\n",
       "      <td>3</td>\n",
       "    </tr>\n",
       "    <tr>\n",
       "      <th>138</th>\n",
       "      <td>611059232</td>\n",
       "      <td>3</td>\n",
       "    </tr>\n",
       "    <tr>\n",
       "      <th>632</th>\n",
       "      <td>2742574263</td>\n",
       "      <td>3</td>\n",
       "    </tr>\n",
       "    <tr>\n",
       "      <th>157</th>\n",
       "      <td>678354126</td>\n",
       "      <td>2</td>\n",
       "    </tr>\n",
       "    <tr>\n",
       "      <th>323</th>\n",
       "      <td>1404560065</td>\n",
       "      <td>2</td>\n",
       "    </tr>\n",
       "    <tr>\n",
       "      <th>452</th>\n",
       "      <td>1985475298</td>\n",
       "      <td>2</td>\n",
       "    </tr>\n",
       "  </tbody>\n",
       "</table>\n",
       "</div>"
      ],
      "text/plain": [
       "      visitorId  orders\n",
       "908  3967698036       3\n",
       "55    249864742       3\n",
       "478  2108163459       3\n",
       "687  2988190573       3\n",
       "890  3908431265       3\n",
       "138   611059232       3\n",
       "632  2742574263       3\n",
       "157   678354126       2\n",
       "323  1404560065       2\n",
       "452  1985475298       2"
      ]
     },
     "execution_count": 93,
     "metadata": {},
     "output_type": "execute_result"
    }
   ],
   "source": [
    "# Creat new table\n",
    "orders_by_users = (\n",
    "    orders.drop(['group', 'revenue', 'date'], axis=1)\n",
    "    .groupby('visitorId', as_index=False)\n",
    "    .agg({'transactionId': pd.Series.nunique})\n",
    ")\n",
    "\n",
    "orders_by_users.columns = ['visitorId', 'orders']\n",
    "orders_by_users.sort_values(by='orders', ascending=False).head(10)"
   ]
  },
  {
   "cell_type": "markdown",
   "metadata": {},
   "source": [
    "* Plot a distribution histogram with the number of orders per user."
   ]
  },
  {
   "cell_type": "code",
   "execution_count": 94,
   "metadata": {},
   "outputs": [
    {
     "data": {
      "text/plain": [
       "(array([937.,   0.,   0.,   0.,   0.,  29.,   0.,   0.,   0.,   7.]),\n",
       " array([1. , 1.2, 1.4, 1.6, 1.8, 2. , 2.2, 2.4, 2.6, 2.8, 3. ]),\n",
       " <BarContainer object of 10 artists>)"
      ]
     },
     "execution_count": 94,
     "metadata": {},
     "output_type": "execute_result"
    },
    {
     "data": {
      "image/png": "[encoded data removed]",
      "text/plain": [
       "<Figure size 640x480 with 1 Axes>"
      ]
     },
     "metadata": {},
     "output_type": "display_data"
    }
   ],
   "source": [
    "plt.hist(orders_by_users['orders'])"
   ]
  },
  {
   "cell_type": "markdown",
   "metadata": {},
   "source": [
    "*  Most of the users placed less than 2 orders. We will calculate percentiles for the number of orders per user."
   ]
  },
  {
   "cell_type": "code",
   "execution_count": 95,
   "metadata": {},
   "outputs": [
    {
     "name": "stdout",
     "output_type": "stream",
     "text": [
      "[1. 2.]\n"
     ]
    }
   ],
   "source": [
    "print(np.percentile(orders_by_users['orders'], [95, 99]))"
   ]
  },
  {
   "cell_type": "markdown",
   "metadata": {},
   "source": [
    "# Conclusions:\n",
    "*    No more than 5% of users placed more than 2 orders, and 1% of users made more than 4. \n",
    "\n",
    "*    These users are highly engaged and might represent a power user segment.\n",
    "\n",
    "*    They could be ideal targets for loyalty programs, beta tests, or personalized offers.\n",
    "\n",
    "# Conjectures:\n",
    "*    These users may have found specific products or services highly valuable.\n",
    "\n",
    "*    They may respond well to retargeting or promotional strategies and could offer insights into what drives repeat purchases."
   ]
  },
  {
   "cell_type": "markdown",
   "metadata": {},
   "source": [
    "### Plot a scatter chart of order prices <a id='6.7'></a>"
   ]
  },
  {
   "cell_type": "code",
   "execution_count": 96,
   "metadata": {},
   "outputs": [
    {
     "data": {
      "image/png": "[encoded data removed]",
      "text/plain": [
       "<Figure size 1000x600 with 1 Axes>"
      ]
     },
     "metadata": {},
     "output_type": "display_data"
    }
   ],
   "source": [
    "# Plot scatter chart of order prices\n",
    "colors = np.array([0, 10, 20, 30, 40, 45, 50, 55, 60, 70, 80, 90, 100])\n",
    "plt.figure(figsize=(10, 6))\n",
    "sns.scatterplot(data=orders, x=range(len(orders)), y=orders['revenue'], hue=orders['revenue'])\n",
    "plt.title('Scatter Plot of Order Prices')\n",
    "plt.xlabel('Order Index')\n",
    "plt.ylabel('Order Revenue')\n",
    "plt.grid(True)\n",
    "plt.tight_layout()\n",
    "plt.show()"
   ]
  },
  {
   "cell_type": "markdown",
   "metadata": {},
   "source": [
    "# Conclusions:\n",
    "*    The bulk of order prices are modest, suggesting that most users make small to moderate purchases.\n",
    "\n",
    "*    A small number of high-value orders could be skewing average revenue figures and should be analyzed separately.\n",
    "\n",
    "# Conjectures:\n",
    "*    The outliers may represent purchases of premium or bulk products, or even pricing/reporting errors.\n",
    "\n",
    "*    Investigating those high-revenue orders could help identify opportunities for upselling or bundling.\n",
    "\n",
    "*    Segmenting users based on order size might allow for more tailored marketing strategies."
   ]
  },
  {
   "cell_type": "markdown",
   "metadata": {},
   "source": [
    "[Back to Contents](#back)"
   ]
  },
  {
   "cell_type": "markdown",
   "metadata": {},
   "source": [
    "### The 95th and 99th percentiles of order prices <a id='6.8'></a>"
   ]
  },
  {
   "cell_type": "code",
   "execution_count": 97,
   "metadata": {},
   "outputs": [
    {
     "data": {
      "text/plain": [
       "(array([852., 108.,  32.,   9.,   8.,   3.,   1.,   1.,   0.,   0.]),\n",
       " array([   0.,  200.,  400.,  600.,  800., 1000., 1200., 1400., 1600.,\n",
       "        1800., 2000.]),\n",
       " <BarContainer object of 10 artists>)"
      ]
     },
     "execution_count": 97,
     "metadata": {},
     "output_type": "execute_result"
    },
    {
     "data": {
      "image/png": "[encoded data removed]",
      "text/plain": [
       "<Figure size 640x480 with 1 Axes>"
      ]
     },
     "metadata": {},
     "output_type": "display_data"
    }
   ],
   "source": [
    "# Plot hist of order prices\n",
    "plt.hist(orders['revenue'], range=(0, 2000))"
   ]
  },
  {
   "cell_type": "markdown",
   "metadata": {},
   "source": [
    "* The data contains orders that cost more than `$1000`. But most of the orders cost less than `$250`."
   ]
  },
  {
   "cell_type": "code",
   "execution_count": 98,
   "metadata": {},
   "outputs": [
    {
     "name": "stdout",
     "output_type": "stream",
     "text": [
      "[414.275 830.3  ]\n"
     ]
    }
   ],
   "source": [
    "print(np.percentile(orders['revenue'], [95, 99]))"
   ]
  },
  {
   "cell_type": "markdown",
   "metadata": {},
   "source": [
    "# Conclusions:\n",
    "*    No more than 5% of order's price more than 414.275, and 1% of orders priced more than 830.3."
   ]
  },
  {
   "cell_type": "markdown",
   "metadata": {},
   "source": [
    "###  The statistical significance of the difference in conversion between the groups <a id='6.9'></a>"
   ]
  },
  {
   "cell_type": "markdown",
   "metadata": {},
   "source": [
    "* Null Hypothesis (H₀): There isn't a difference in conversion rates between the groups.\n",
    "* Alternative Hypothesis (H₁): There is a difference in conversion rates between the groups."
   ]
  },
  {
   "cell_type": "code",
   "execution_count": 99,
   "metadata": {},
   "outputs": [
    {
     "name": "stdout",
     "output_type": "stream",
     "text": [
      "P-value: 0.011018084110014696\n",
      "Relative loss of group B: 0.1597977924896936\n",
      "Null hypothesis rejected: the difference is statistically significant\n"
     ]
    }
   ],
   "source": [
    "alpha = 0.05\n",
    "# Create tables for each group\n",
    "orders_by_users_A = orders[orders['group']=='A'].groupby('visitorId', as_index=False).agg({'transactionId' : pd.Series.nunique})\n",
    "orders_by_users_A.columns = ['visitorId', 'orders']\n",
    "\n",
    "orders_by_users_B = orders[orders['group']=='B'].groupby('visitorId', as_index=False).agg({'transactionId' : pd.Series.nunique})\n",
    "orders_by_users_B.columns = ['visitorId', 'orders']\n",
    "\n",
    "# Create samples for each group\n",
    "sampleA = pd.concat([orders_by_users_A['orders'],pd.Series(0, index=np.arange(visits[visits['group']=='A']['visits'].sum() - len(orders_by_users_A['orders'])), name='orders')],axis=0)\n",
    "\n",
    "sampleB = pd.concat([orders_by_users_B['orders'],pd.Series(0, index=np.arange(visits[visits['group']=='B']['visits'].sum() - len(orders_by_users_B['orders'])), name='orders')],axis=0)\n",
    "\n",
    "p_value = float(\"{0:}\".format(stats.mannwhitneyu(sampleA, sampleB)[1]))\n",
    "\n",
    "print(f'P-value: {p_value}')\n",
    "print(f'Relative loss of group B: {\"{0:}\".format(sampleB.mean()/sampleA.mean()-1)}')\n",
    "\n",
    "if (p_value < alpha):\n",
    "    print(\"Null hypothesis rejected: the difference is statistically significant\")\n",
    "else:\n",
    "    print(\"Failed to reject the null hypothesis: we can't make conclusions about the difference\")"
   ]
  },
  {
   "cell_type": "markdown",
   "metadata": {},
   "source": [
    "# Conclusion: \n",
    "* p-value\tInterpretation\n",
    "* < 0.01\tVery strong evidence against the null hypothesis\n",
    "* < 0.05\tStrong evidence against the null hypothesis\n",
    "* > 0.05\tWeak or no evidence against the null hypothesis\n",
    "* Based on the raw data, there is a difference between groups A and B. The p-value is 0.0110, which is smaller than 0.05. So, we are rejecting the null hypothesis and conclude that there is a statistically significant difference in conversion between the groups."
   ]
  },
  {
   "cell_type": "markdown",
   "metadata": {},
   "source": [
    "[Back to Contents](#back)"
   ]
  },
  {
   "cell_type": "markdown",
   "metadata": {},
   "source": [
    "### The statistical significance of the difference in average order size between the groups <a id='6.10'></a>"
   ]
  },
  {
   "cell_type": "markdown",
   "metadata": {},
   "source": [
    "* Null Hypothesis (H₀): There isn't a difference in statistical significance of the difference in average order size between the groups.\n",
    "* Alternative Hypothesis (H₁): There is a difference in statistical significance of the difference in average order size between the groups."
   ]
  },
  {
   "cell_type": "code",
   "execution_count": 104,
   "metadata": {},
   "outputs": [
    {
     "name": "stdout",
     "output_type": "stream",
     "text": [
      "P-value: 0.862\n",
      "Loss of group B: 0.278\n",
      "Failed to reject the null hypothesis: we can't make conclusions about the difference\n"
     ]
    }
   ],
   "source": [
    "p_value = float('{0:.3f}'.format(stats.mannwhitneyu(orders[orders['group']=='A']['revenue'], orders[orders['group']=='B']['revenue'])[1]))\n",
    "\n",
    "print(f\"P-value: {p_value}\")\n",
    "print(f\"Loss of group B: {'{0:.3f}'.format(orders[orders['group']=='B']['revenue'].mean()/orders[orders['group']=='A']['revenue'].mean()-1)}\")\n",
    "if (p_value < alpha):\n",
    "    print(\"Null hypothesis rejected: the difference is statistically significant\")\n",
    "else:\n",
    "    print(\"Failed to reject the null hypothesis: we can't make conclusions about the difference\")"
   ]
  },
  {
   "cell_type": "markdown",
   "metadata": {},
   "source": [
    "# Conclusion:\n",
    "\n",
    "*    The p-value is considerably higher than 0.05, so there's no reason to reject the null hypothesis and conclude that average order size differs between the groups.\n",
    "* Based on the raw data, there isn't a difference between groups A and B. The p-value is 0.862, which is greater than 0.05. So, we can not reject the null hypothesis and conclude that there isn't a statistically significant difference in conversion between the groups."
   ]
  },
  {
   "cell_type": "markdown",
   "metadata": {},
   "source": [
    "### The statistical significance of the difference in conversion between the groups using the filtered data <a id='6.11'></a>"
   ]
  },
  {
   "cell_type": "markdown",
   "metadata": {},
   "source": [
    "* Null Hypothesis (H₀): There isn't a difference in conversion rates between the groups.\n",
    "* Alternative Hypothesis (H₁): There is a difference in conversion rates between the groups."
   ]
  },
  {
   "cell_type": "markdown",
   "metadata": {},
   "source": [
    "* Let's define anomalous users."
   ]
  },
  {
   "cell_type": "code",
   "execution_count": 101,
   "metadata": {},
   "outputs": [
    {
     "name": "stdout",
     "output_type": "stream",
     "text": [
      "568     113298937\n",
      "1099    148427295\n",
      "928     204675465\n",
      "33      249864742\n",
      "684     358944393\n",
      "Name: visitorId, dtype: int64\n",
      "(86,)\n"
     ]
    }
   ],
   "source": [
    "# Calculate percentile thresholds dynamically\n",
    "orders_A_percentile_95 = np.percentile(orders_by_users_A['orders'], 95)\n",
    "orders_B_percentile_95 = np.percentile(orders_by_users_B['orders'], 95)\n",
    "revenue_percentile_95 = np.percentile(orders['revenue'], 95)\n",
    "\n",
    "# Then use these calculated thresholds in your filtering\n",
    "usersWithManyOrders = pd.concat([\n",
    "    orders_by_users_A[orders_by_users_A['orders'] > orders_A_percentile_95]['visitorId'], \n",
    "    orders_by_users_B[orders_by_users_B['orders'] > orders_B_percentile_95]['visitorId']\n",
    "], axis=0)\n",
    "\n",
    "usersWithExpensiveOrders = orders[orders['revenue'] > revenue_percentile_95]['visitorId']\n",
    "abnormal_users = pd.concat([usersWithManyOrders, usersWithExpensiveOrders], axis=0).drop_duplicates().sort_values()\n",
    "print(abnormal_users.head(5))\n",
    "print(abnormal_users.shape)"
   ]
  },
  {
   "cell_type": "markdown",
   "metadata": {},
   "source": [
    "* We have 86 anomalous users in total. Let's create new samples of the filtered data."
   ]
  },
  {
   "cell_type": "code",
   "execution_count": 105,
   "metadata": {},
   "outputs": [
    {
     "name": "stdout",
     "output_type": "stream",
     "text": [
      "P-value: 0.016\n",
      "Loss of group B: 0.174\n",
      "Null hypothesis rejected: the difference is statistically significant\n"
     ]
    }
   ],
   "source": [
    "# Create samples using the filtered data for each group\n",
    "sampleAFiltered = pd.concat([orders_by_users_A[np.logical_not(orders_by_users_A['visitorId'].isin(abnormal_users))]['orders'],pd.Series(0, index=np.arange(visits[visits['group']=='A']['visits'].sum() - len(orders_by_users_A['orders'])),name='orders')],axis=0)\n",
    "\n",
    "sampleBFiltered = pd.concat([orders_by_users_B[np.logical_not(orders_by_users_B['visitorId'].isin(abnormal_users))]['orders'],pd.Series(0, index=np.arange(visits[visits['group']=='B']['visits'].sum() - len(orders_by_users_B['orders'])),name='orders')],axis=0)\n",
    "\n",
    "# Apply the statistical Mann-Whitney criterion to the resulting samples\n",
    "p_value = float(\"{0:.3f}\".format(stats.mannwhitneyu(sampleAFiltered, sampleBFiltered)[1]))\n",
    "\n",
    "print(f'P-value: {p_value}')\n",
    "print(f'Loss of group B: {\"{0:.3f}\".format(sampleBFiltered.mean()/sampleAFiltered.mean()-1)}')\n",
    "if (p_value < alpha):\n",
    "    print(\"Null hypothesis rejected: the difference is statistically significant\")\n",
    "else:\n",
    "    print(\"Failed to reject the null hypothesis: we can't make conclusions about the difference\")"
   ]
  },
  {
   "cell_type": "markdown",
   "metadata": {},
   "source": [
    "# Conclusion:\n",
    "*    The results for conversion almost ddidn't change. We still can reject the null hypothesis.\n",
    "* Based on the raw data, there is a difference between groups A and B. The p-value is 0.016, which is smaller than 0.05. So, we are rejecting the null hypothesis and conclude that there is a statistically significant difference in conversion between the groups."
   ]
  },
  {
   "cell_type": "markdown",
   "metadata": {},
   "source": [
    "### The statistical significance of the difference in average order size between the groups using the filtered data <a id='6.12'></a>"
   ]
  },
  {
   "cell_type": "markdown",
   "metadata": {},
   "source": [
    "* Null Hypothesis (H₀): There isn't a difference in statistical significance of the difference in average order size between the groups.\n",
    "* Alternative Hypothesis (H₁): There is a difference in statistical significance of the difference in average order size between the groups."
   ]
  },
  {
   "cell_type": "code",
   "execution_count": 107,
   "metadata": {},
   "outputs": [
    {
     "name": "stdout",
     "output_type": "stream",
     "text": [
      "P-value: 0.771\n",
      "Loss of group B:  -0.033\n",
      "Failed to reject the null hypothesis: we can't make conclusions about the difference\n"
     ]
    }
   ],
   "source": [
    "p_value = float('{0:.3f}'.format(stats.mannwhitneyu(orders[np.logical_and(orders['group']=='A',np.logical_not(orders['visitorId'].isin(abnormal_users)))]['revenue'],orders[np.logical_and(orders['group']=='B',np.logical_not(orders['visitorId'].isin(abnormal_users)))]['revenue'])[1]))\n",
    "\n",
    "print(f'P-value: {p_value}')\n",
    "print('Loss of group B: ', '{0:.3f}'.format(orders[np.logical_and(orders['group']=='B',np.logical_not(orders['visitorId'].isin(abnormal_users)))]['revenue'].mean()/orders[np.logical_and(orders['group']=='A',np.logical_not(orders['visitorId'].isin(abnormal_users)))]['revenue'].mean() - 1))\n",
    "if (p_value < alpha):\n",
    "    print(\"Null hypothesis rejected: the difference is statistically significant\")\n",
    "else:\n",
    "    print(\"Failed to reject the null hypothesis: we can't make conclusions about the difference\")"
   ]
  },
  {
   "cell_type": "markdown",
   "metadata": {},
   "source": [
    "# Conclusion:\n",
    "*    The p-value increased, but now the difference between the segments is -3.3% instead of 27.8%.\n",
    "* Based on the raw data, there isn't a difference between groups A and B. The p-value is 0.771, which is greater than 0.05. So, we can not reject the null hypothesis and conclude that there isn't a statistically significant difference in conversion between the groups."
   ]
  },
  {
   "cell_type": "markdown",
   "metadata": {},
   "source": [
    "### Make a decision based on the test results. The possible decisions are: 1. Stop the test, consider one of the groups the leader. 2. Stop the test, conclude that there is no difference between the groups. 3. Continue the test. <a id='6.13'></a>"
   ]
  },
  {
   "cell_type": "markdown",
   "metadata": {},
   "source": [
    "# Summary of Findings:\n",
    "1. Cumulative Average Order Size\n",
    "*    Group B consistently outperforms Group A.\n",
    "\n",
    "*    The difference grows over time.\n",
    "\n",
    "*    Relative difference between B and A reaches 10–20%.\n",
    "\n",
    "2. Conversion Rate\n",
    "*    Group B has a higher daily conversion rate across most of the test period.\n",
    "\n",
    "3. Order Behavior\n",
    "*    No anomalies in data suggest unfair biases.\n",
    "\n",
    "*    Repeat purchasers and high-value orders are rare, but Group B still wins on average.\n",
    "\n",
    "4. Conversion Rate\n",
    "*    Group B showed a statistically significant higher conversion rate than Group A.\n",
    "\n",
    "*    The uplift is meaningful and sustained across the test period.\n",
    "\n",
    "#  Conclusion\n",
    "*    Group B has shown a clear advantage in conversion rate with no downside in order size. Even though the revenue per order isn’t significantly different, the volume of conversions gives Group B the edge.\n",
    "\n",
    "# Decision Recommendation:\n",
    "Decision: 1. Stop the test, consider Group B the leader."
   ]
  },
  {
   "cell_type": "markdown",
   "metadata": {},
   "source": [
    "<div class=\"alert alert-block alert-success\">\n",
    "<b>Reviewer's comment v1</b> \n",
    "\n",
    "\n",
    "\n",
    "Thank you for your work 🤝\n",
    "\n",
    "You did a great research with correct intermediate conclusions, clean code and good visualization. You managed to correctly apply the frameworks for testing hypotheses, identify anomalies in the data and perform all the statistical tests.\n",
    "\n",
    "I also fully agree with your test results. In this project, you can fall into the \"peeking problem\" and wait until there is a difference in metrics, but doing so is wrong. You can read more here: https://gopractice.io/blog/peeking-problem/#:~:text=by%20Oleg%20Yakubenkov-,Peeking%20problem%20%E2%80%93%20the%20fatal%20mistake%20in%20A%2FB%20testing%20and,A%2FB%20test%20is%20over\n",
    "    \n",
    "\n",
    "\n",
    "    \n",
    "</div>"
   ]
  },
  {
   "cell_type": "markdown",
   "metadata": {},
   "source": [
    "[Back to Contents](#back)"
   ]
  }
 ],
 "metadata": {
  "ExecuteTimeLog": [
   {
    "duration": 2557,
    "start_time": "2025-03-29T12:00:50.155Z"
   },
   {
    "duration": 158,
    "start_time": "2025-03-29T13:45:54.076Z"
   },
   {
    "duration": 2543,
    "start_time": "2025-03-29T13:45:58.450Z"
   },
   {
    "duration": 17,
    "start_time": "2025-03-29T13:46:01.806Z"
   },
   {
    "duration": 14,
    "start_time": "2025-03-29T13:54:14.337Z"
   },
   {
    "duration": 11,
    "start_time": "2025-03-29T13:59:46.975Z"
   },
   {
    "duration": 11,
    "start_time": "2025-03-29T14:00:14.784Z"
   },
   {
    "duration": 171,
    "start_time": "2025-03-29T16:11:48.185Z"
   },
   {
    "duration": 2705,
    "start_time": "2025-03-29T16:11:53.114Z"
   },
   {
    "duration": 14,
    "start_time": "2025-03-29T16:11:55.822Z"
   },
   {
    "duration": 12,
    "start_time": "2025-03-29T16:11:55.838Z"
   },
   {
    "duration": 89,
    "start_time": "2025-03-29T16:11:55.852Z"
   },
   {
    "duration": 11,
    "start_time": "2025-03-29T16:12:09.977Z"
   },
   {
    "duration": 2790,
    "start_time": "2025-04-01T14:12:59.036Z"
   },
   {
    "duration": 18,
    "start_time": "2025-04-01T14:13:01.828Z"
   },
   {
    "duration": 16,
    "start_time": "2025-04-01T14:13:01.849Z"
   },
   {
    "duration": 19,
    "start_time": "2025-04-01T14:13:01.868Z"
   },
   {
    "duration": 13,
    "start_time": "2025-04-01T14:13:01.890Z"
   },
   {
    "duration": 3,
    "start_time": "2025-04-01T14:19:31.840Z"
   },
   {
    "duration": 8,
    "start_time": "2025-04-01T14:19:46.370Z"
   },
   {
    "duration": 3,
    "start_time": "2025-04-01T14:19:50.727Z"
   },
   {
    "duration": 10,
    "start_time": "2025-04-01T14:19:50.735Z"
   },
   {
    "duration": 10,
    "start_time": "2025-04-01T14:19:50.747Z"
   },
   {
    "duration": 10,
    "start_time": "2025-04-01T14:19:50.759Z"
   },
   {
    "duration": 8,
    "start_time": "2025-04-01T14:19:50.770Z"
   },
   {
    "duration": 10,
    "start_time": "2025-04-01T14:20:15.601Z"
   },
   {
    "duration": 163,
    "start_time": "2025-04-01T15:01:17.428Z"
   },
   {
    "duration": 2504,
    "start_time": "2025-04-01T15:01:21.281Z"
   },
   {
    "duration": 15,
    "start_time": "2025-04-01T15:01:23.787Z"
   },
   {
    "duration": 13,
    "start_time": "2025-04-01T15:01:23.804Z"
   },
   {
    "duration": 16,
    "start_time": "2025-04-01T15:01:23.819Z"
   },
   {
    "duration": 4,
    "start_time": "2025-04-01T15:01:23.836Z"
   },
   {
    "duration": 10,
    "start_time": "2025-04-01T15:01:40.076Z"
   },
   {
    "duration": 3,
    "start_time": "2025-04-01T15:06:44.693Z"
   },
   {
    "duration": 13,
    "start_time": "2025-04-01T15:10:12.023Z"
   },
   {
    "duration": 9,
    "start_time": "2025-04-01T15:13:31.646Z"
   },
   {
    "duration": 631,
    "start_time": "2025-04-01T17:17:01.152Z"
   },
   {
    "duration": 9,
    "start_time": "2025-04-01T17:17:26.579Z"
   },
   {
    "duration": 9,
    "start_time": "2025-04-01T17:18:35.384Z"
   },
   {
    "duration": 2,
    "start_time": "2025-04-01T17:20:18.532Z"
   },
   {
    "duration": 17,
    "start_time": "2025-04-01T17:20:18.551Z"
   },
   {
    "duration": 16,
    "start_time": "2025-04-01T17:20:18.570Z"
   },
   {
    "duration": 9,
    "start_time": "2025-04-01T17:20:18.588Z"
   },
   {
    "duration": 9,
    "start_time": "2025-04-01T17:20:18.599Z"
   },
   {
    "duration": 2,
    "start_time": "2025-04-01T17:20:18.626Z"
   },
   {
    "duration": 19,
    "start_time": "2025-04-01T17:20:18.639Z"
   },
   {
    "duration": 10,
    "start_time": "2025-04-01T17:20:18.660Z"
   },
   {
    "duration": 8,
    "start_time": "2025-04-01T17:20:18.671Z"
   },
   {
    "duration": 10,
    "start_time": "2025-04-01T17:47:07.608Z"
   },
   {
    "duration": 6,
    "start_time": "2025-04-01T17:48:07.901Z"
   },
   {
    "duration": 11,
    "start_time": "2025-04-01T17:48:20.500Z"
   },
   {
    "duration": 3027,
    "start_time": "2025-04-05T04:48:01.995Z"
   },
   {
    "duration": 18,
    "start_time": "2025-04-05T04:48:05.024Z"
   },
   {
    "duration": 21,
    "start_time": "2025-04-05T04:48:05.043Z"
   },
   {
    "duration": 22,
    "start_time": "2025-04-05T04:48:05.067Z"
   },
   {
    "duration": 11,
    "start_time": "2025-04-05T04:48:05.090Z"
   },
   {
    "duration": 3,
    "start_time": "2025-04-05T04:48:05.103Z"
   },
   {
    "duration": 14,
    "start_time": "2025-04-05T04:48:05.107Z"
   },
   {
    "duration": 21,
    "start_time": "2025-04-05T04:48:05.122Z"
   },
   {
    "duration": 11,
    "start_time": "2025-04-05T04:48:05.145Z"
   },
   {
    "duration": 15,
    "start_time": "2025-04-05T04:48:05.158Z"
   },
   {
    "duration": 159,
    "start_time": "2025-04-05T14:07:54.738Z"
   },
   {
    "duration": 2555,
    "start_time": "2025-04-05T14:07:58.551Z"
   },
   {
    "duration": 14,
    "start_time": "2025-04-05T14:08:01.109Z"
   },
   {
    "duration": 14,
    "start_time": "2025-04-05T14:08:01.125Z"
   },
   {
    "duration": 11,
    "start_time": "2025-04-05T14:08:01.141Z"
   },
   {
    "duration": 9,
    "start_time": "2025-04-05T14:08:01.155Z"
   },
   {
    "duration": 3,
    "start_time": "2025-04-05T14:08:01.166Z"
   },
   {
    "duration": 38,
    "start_time": "2025-04-05T14:08:01.170Z"
   },
   {
    "duration": 9,
    "start_time": "2025-04-05T14:08:01.209Z"
   },
   {
    "duration": 9,
    "start_time": "2025-04-05T14:08:01.219Z"
   },
   {
    "duration": 8,
    "start_time": "2025-04-05T14:08:01.230Z"
   },
   {
    "duration": 11,
    "start_time": "2025-04-05T14:08:01.240Z"
   },
   {
    "duration": 8,
    "start_time": "2025-04-05T14:21:14.791Z"
   },
   {
    "duration": 15,
    "start_time": "2025-04-05T14:23:03.917Z"
   },
   {
    "duration": 186,
    "start_time": "2025-04-05T14:24:53.626Z"
   },
   {
    "duration": 6,
    "start_time": "2025-04-05T14:25:44.830Z"
   },
   {
    "duration": 923,
    "start_time": "2025-04-05T14:26:48.452Z"
   },
   {
    "duration": 152,
    "start_time": "2025-04-05T14:27:01.841Z"
   },
   {
    "duration": 957,
    "start_time": "2025-04-05T14:29:02.609Z"
   },
   {
    "duration": 910,
    "start_time": "2025-04-05T14:29:31.329Z"
   },
   {
    "duration": 14,
    "start_time": "2025-04-05T14:29:37.756Z"
   },
   {
    "duration": 933,
    "start_time": "2025-04-05T14:29:41.249Z"
   },
   {
    "duration": 229,
    "start_time": "2025-04-05T14:29:58.908Z"
   },
   {
    "duration": 973,
    "start_time": "2025-04-05T14:30:13.832Z"
   },
   {
    "duration": 13,
    "start_time": "2025-04-05T14:30:52.391Z"
   },
   {
    "duration": 922,
    "start_time": "2025-04-05T14:31:44.962Z"
   },
   {
    "duration": 13,
    "start_time": "2025-04-05T14:31:54.661Z"
   },
   {
    "duration": 895,
    "start_time": "2025-04-05T14:31:55.510Z"
   },
   {
    "duration": 915,
    "start_time": "2025-04-05T14:34:40.835Z"
   },
   {
    "duration": 922,
    "start_time": "2025-04-05T14:34:48.277Z"
   },
   {
    "duration": 933,
    "start_time": "2025-04-05T14:35:12.620Z"
   },
   {
    "duration": 1151,
    "start_time": "2025-04-05T14:36:20.603Z"
   },
   {
    "duration": 1052,
    "start_time": "2025-04-05T14:36:26.882Z"
   },
   {
    "duration": 999,
    "start_time": "2025-04-05T14:36:44.831Z"
   },
   {
    "duration": 988,
    "start_time": "2025-04-05T14:37:40.492Z"
   },
   {
    "duration": 15,
    "start_time": "2025-04-05T14:38:24.891Z"
   },
   {
    "duration": 997,
    "start_time": "2025-04-05T14:38:25.648Z"
   },
   {
    "duration": 13,
    "start_time": "2025-04-05T14:38:38.905Z"
   },
   {
    "duration": 981,
    "start_time": "2025-04-05T14:38:39.493Z"
   },
   {
    "duration": 982,
    "start_time": "2025-04-05T14:42:01.311Z"
   },
   {
    "duration": 977,
    "start_time": "2025-04-05T14:42:35.797Z"
   },
   {
    "duration": 14,
    "start_time": "2025-04-05T15:56:30.181Z"
   },
   {
    "duration": 390,
    "start_time": "2025-04-05T15:57:02.359Z"
   },
   {
    "duration": 210,
    "start_time": "2025-04-05T15:57:48.910Z"
   },
   {
    "duration": 367,
    "start_time": "2025-04-05T15:59:36.441Z"
   },
   {
    "duration": 375,
    "start_time": "2025-04-05T15:59:52.076Z"
   },
   {
    "duration": 362,
    "start_time": "2025-04-05T16:00:19.595Z"
   },
   {
    "duration": 23,
    "start_time": "2025-04-05T16:00:48.797Z"
   },
   {
    "duration": 20,
    "start_time": "2025-04-05T16:01:03.331Z"
   },
   {
    "duration": 366,
    "start_time": "2025-04-05T16:01:08.987Z"
   },
   {
    "duration": 408,
    "start_time": "2025-04-05T16:15:01.039Z"
   },
   {
    "duration": 370,
    "start_time": "2025-04-05T16:15:31.287Z"
   },
   {
    "duration": 380,
    "start_time": "2025-04-05T16:19:17.483Z"
   },
   {
    "duration": 2732,
    "start_time": "2025-04-06T15:13:58.490Z"
   },
   {
    "duration": 17,
    "start_time": "2025-04-06T15:14:01.225Z"
   },
   {
    "duration": 14,
    "start_time": "2025-04-06T15:14:01.244Z"
   },
   {
    "duration": 12,
    "start_time": "2025-04-06T15:14:01.260Z"
   },
   {
    "duration": 15,
    "start_time": "2025-04-06T15:14:01.273Z"
   },
   {
    "duration": 4,
    "start_time": "2025-04-06T15:14:01.290Z"
   },
   {
    "duration": 13,
    "start_time": "2025-04-06T15:14:01.296Z"
   },
   {
    "duration": 10,
    "start_time": "2025-04-06T15:14:01.311Z"
   },
   {
    "duration": 10,
    "start_time": "2025-04-06T15:14:01.322Z"
   },
   {
    "duration": 10,
    "start_time": "2025-04-06T15:14:01.335Z"
   },
   {
    "duration": 1101,
    "start_time": "2025-04-06T15:14:01.386Z"
   },
   {
    "duration": 443,
    "start_time": "2025-04-06T15:14:02.489Z"
   },
   {
    "duration": 393,
    "start_time": "2025-04-06T15:14:02.934Z"
   },
   {
    "duration": 439,
    "start_time": "2025-04-06T15:14:34.275Z"
   },
   {
    "duration": 360,
    "start_time": "2025-04-06T15:15:05.015Z"
   },
   {
    "duration": 355,
    "start_time": "2025-04-06T15:15:14.052Z"
   },
   {
    "duration": 438,
    "start_time": "2025-04-06T15:16:35.867Z"
   },
   {
    "duration": 427,
    "start_time": "2025-04-06T15:16:42.141Z"
   },
   {
    "duration": 225,
    "start_time": "2025-04-06T15:16:56.670Z"
   },
   {
    "duration": 335,
    "start_time": "2025-04-06T15:17:22.308Z"
   },
   {
    "duration": 3,
    "start_time": "2025-04-06T15:22:24.612Z"
   },
   {
    "duration": 13,
    "start_time": "2025-04-06T15:22:24.618Z"
   },
   {
    "duration": 10,
    "start_time": "2025-04-06T15:22:24.633Z"
   },
   {
    "duration": 10,
    "start_time": "2025-04-06T15:22:24.645Z"
   },
   {
    "duration": 10,
    "start_time": "2025-04-06T15:22:24.656Z"
   },
   {
    "duration": 4,
    "start_time": "2025-04-06T15:22:24.667Z"
   },
   {
    "duration": 21,
    "start_time": "2025-04-06T15:22:24.673Z"
   },
   {
    "duration": 9,
    "start_time": "2025-04-06T15:22:24.695Z"
   },
   {
    "duration": 10,
    "start_time": "2025-04-06T15:22:24.706Z"
   },
   {
    "duration": 9,
    "start_time": "2025-04-06T15:22:24.718Z"
   },
   {
    "duration": 1128,
    "start_time": "2025-04-06T15:22:24.729Z"
   },
   {
    "duration": 413,
    "start_time": "2025-04-06T15:22:25.858Z"
   },
   {
    "duration": 337,
    "start_time": "2025-04-06T15:22:26.273Z"
   },
   {
    "duration": 3,
    "start_time": "2025-04-06T15:23:54.360Z"
   },
   {
    "duration": 12,
    "start_time": "2025-04-06T15:23:54.365Z"
   },
   {
    "duration": 11,
    "start_time": "2025-04-06T15:23:54.379Z"
   },
   {
    "duration": 10,
    "start_time": "2025-04-06T15:23:54.392Z"
   },
   {
    "duration": 9,
    "start_time": "2025-04-06T15:23:54.405Z"
   },
   {
    "duration": 4,
    "start_time": "2025-04-06T15:23:54.416Z"
   },
   {
    "duration": 12,
    "start_time": "2025-04-06T15:23:54.423Z"
   },
   {
    "duration": 9,
    "start_time": "2025-04-06T15:23:54.437Z"
   },
   {
    "duration": 43,
    "start_time": "2025-04-06T15:23:54.448Z"
   },
   {
    "duration": 108,
    "start_time": "2025-04-06T15:23:54.493Z"
   },
   {
    "duration": 1042,
    "start_time": "2025-04-06T15:23:54.603Z"
   },
   {
    "duration": 388,
    "start_time": "2025-04-06T15:23:55.647Z"
   },
   {
    "duration": 364,
    "start_time": "2025-04-06T15:23:56.039Z"
   },
   {
    "duration": 852,
    "start_time": "2025-04-06T15:25:59.688Z"
   },
   {
    "duration": 13,
    "start_time": "2025-04-06T15:26:00.543Z"
   },
   {
    "duration": 11,
    "start_time": "2025-04-06T15:26:00.557Z"
   },
   {
    "duration": 23,
    "start_time": "2025-04-06T15:26:00.570Z"
   },
   {
    "duration": 12,
    "start_time": "2025-04-06T15:26:00.596Z"
   },
   {
    "duration": 4,
    "start_time": "2025-04-06T15:26:00.610Z"
   },
   {
    "duration": 14,
    "start_time": "2025-04-06T15:26:00.615Z"
   },
   {
    "duration": 9,
    "start_time": "2025-04-06T15:26:00.633Z"
   },
   {
    "duration": 10,
    "start_time": "2025-04-06T15:26:00.643Z"
   },
   {
    "duration": 38,
    "start_time": "2025-04-06T15:26:00.656Z"
   },
   {
    "duration": 1107,
    "start_time": "2025-04-06T15:26:00.696Z"
   },
   {
    "duration": 413,
    "start_time": "2025-04-06T15:26:01.805Z"
   },
   {
    "duration": 300,
    "start_time": "2025-04-06T15:26:02.220Z"
   },
   {
    "duration": 452,
    "start_time": "2025-04-06T15:27:09.022Z"
   },
   {
    "duration": 360,
    "start_time": "2025-04-06T15:28:24.478Z"
   },
   {
    "duration": 385,
    "start_time": "2025-04-06T15:29:02.350Z"
   },
   {
    "duration": 363,
    "start_time": "2025-04-06T15:29:07.231Z"
   },
   {
    "duration": 145,
    "start_time": "2025-04-06T15:54:29.910Z"
   },
   {
    "duration": 3,
    "start_time": "2025-04-06T15:54:55.910Z"
   },
   {
    "duration": 13,
    "start_time": "2025-04-06T15:54:55.916Z"
   },
   {
    "duration": 12,
    "start_time": "2025-04-06T15:54:55.930Z"
   },
   {
    "duration": 11,
    "start_time": "2025-04-06T15:54:55.945Z"
   },
   {
    "duration": 17,
    "start_time": "2025-04-06T15:54:55.958Z"
   },
   {
    "duration": 3,
    "start_time": "2025-04-06T15:54:55.977Z"
   },
   {
    "duration": 18,
    "start_time": "2025-04-06T15:54:55.982Z"
   },
   {
    "duration": 11,
    "start_time": "2025-04-06T15:54:56.002Z"
   },
   {
    "duration": 9,
    "start_time": "2025-04-06T15:54:56.014Z"
   },
   {
    "duration": 10,
    "start_time": "2025-04-06T15:54:56.026Z"
   },
   {
    "duration": 1107,
    "start_time": "2025-04-06T15:54:56.038Z"
   },
   {
    "duration": 330,
    "start_time": "2025-04-06T15:54:57.147Z"
   },
   {
    "duration": 292,
    "start_time": "2025-04-06T15:54:57.479Z"
   },
   {
    "duration": 161,
    "start_time": "2025-04-07T07:35:22.379Z"
   },
   {
    "duration": 2531,
    "start_time": "2025-04-07T07:35:25.943Z"
   },
   {
    "duration": 15,
    "start_time": "2025-04-07T07:35:28.476Z"
   },
   {
    "duration": 13,
    "start_time": "2025-04-07T07:35:28.492Z"
   },
   {
    "duration": 11,
    "start_time": "2025-04-07T07:35:28.506Z"
   },
   {
    "duration": 15,
    "start_time": "2025-04-07T07:35:28.519Z"
   },
   {
    "duration": 3,
    "start_time": "2025-04-07T07:35:28.536Z"
   },
   {
    "duration": 13,
    "start_time": "2025-04-07T07:35:28.540Z"
   },
   {
    "duration": 10,
    "start_time": "2025-04-07T07:35:28.555Z"
   },
   {
    "duration": 9,
    "start_time": "2025-04-07T07:35:28.566Z"
   },
   {
    "duration": 9,
    "start_time": "2025-04-07T07:35:28.576Z"
   },
   {
    "duration": 1010,
    "start_time": "2025-04-07T07:35:28.587Z"
   },
   {
    "duration": 348,
    "start_time": "2025-04-07T07:35:29.598Z"
   },
   {
    "duration": 269,
    "start_time": "2025-04-07T07:35:29.949Z"
   },
   {
    "duration": 314,
    "start_time": "2025-04-07T07:35:30.224Z"
   },
   {
    "duration": 215,
    "start_time": "2025-04-07T07:38:10.652Z"
   },
   {
    "duration": 2539,
    "start_time": "2025-04-08T07:49:26.067Z"
   },
   {
    "duration": 15,
    "start_time": "2025-04-08T07:49:28.609Z"
   },
   {
    "duration": 15,
    "start_time": "2025-04-08T07:49:28.625Z"
   },
   {
    "duration": 11,
    "start_time": "2025-04-08T07:49:28.641Z"
   },
   {
    "duration": 25,
    "start_time": "2025-04-08T07:49:28.654Z"
   },
   {
    "duration": 2,
    "start_time": "2025-04-08T07:49:28.681Z"
   },
   {
    "duration": 14,
    "start_time": "2025-04-08T07:49:28.685Z"
   },
   {
    "duration": 8,
    "start_time": "2025-04-08T07:49:28.700Z"
   },
   {
    "duration": 9,
    "start_time": "2025-04-08T07:49:28.711Z"
   },
   {
    "duration": 9,
    "start_time": "2025-04-08T07:49:28.722Z"
   },
   {
    "duration": 976,
    "start_time": "2025-04-08T07:49:28.770Z"
   },
   {
    "duration": 338,
    "start_time": "2025-04-08T07:49:29.748Z"
   },
   {
    "duration": 273,
    "start_time": "2025-04-08T07:49:30.088Z"
   },
   {
    "duration": 321,
    "start_time": "2025-04-08T07:49:30.362Z"
   },
   {
    "duration": 291,
    "start_time": "2025-04-08T07:49:30.684Z"
   },
   {
    "duration": 9,
    "start_time": "2025-04-08T07:50:57.759Z"
   },
   {
    "duration": 256,
    "start_time": "2025-04-08T07:52:48.161Z"
   },
   {
    "duration": 174,
    "start_time": "2025-04-09T04:52:35.254Z"
   },
   {
    "duration": 2834,
    "start_time": "2025-04-09T04:52:38.775Z"
   },
   {
    "duration": 22,
    "start_time": "2025-04-09T04:52:41.612Z"
   },
   {
    "duration": 14,
    "start_time": "2025-04-09T04:52:41.635Z"
   },
   {
    "duration": 13,
    "start_time": "2025-04-09T04:52:41.651Z"
   },
   {
    "duration": 18,
    "start_time": "2025-04-09T04:52:41.667Z"
   },
   {
    "duration": 4,
    "start_time": "2025-04-09T04:52:41.687Z"
   },
   {
    "duration": 45,
    "start_time": "2025-04-09T04:52:41.692Z"
   },
   {
    "duration": 9,
    "start_time": "2025-04-09T04:52:41.740Z"
   },
   {
    "duration": 10,
    "start_time": "2025-04-09T04:52:41.752Z"
   },
   {
    "duration": 18,
    "start_time": "2025-04-09T04:52:41.763Z"
   },
   {
    "duration": 1034,
    "start_time": "2025-04-09T04:52:41.783Z"
   },
   {
    "duration": 525,
    "start_time": "2025-04-09T04:52:42.818Z"
   },
   {
    "duration": 0,
    "start_time": "2025-04-09T04:52:43.345Z"
   },
   {
    "duration": 0,
    "start_time": "2025-04-09T04:52:43.346Z"
   },
   {
    "duration": 0,
    "start_time": "2025-04-09T04:52:43.348Z"
   },
   {
    "duration": 0,
    "start_time": "2025-04-09T04:52:43.349Z"
   },
   {
    "duration": 0,
    "start_time": "2025-04-09T04:52:43.351Z"
   },
   {
    "duration": 0,
    "start_time": "2025-04-09T04:52:43.352Z"
   },
   {
    "duration": 85,
    "start_time": "2025-04-09T04:53:41.187Z"
   },
   {
    "duration": 203,
    "start_time": "2025-04-09T04:54:09.021Z"
   },
   {
    "duration": 201,
    "start_time": "2025-04-09T04:55:58.810Z"
   },
   {
    "duration": 599,
    "start_time": "2025-04-09T04:56:59.236Z"
   },
   {
    "duration": 592,
    "start_time": "2025-04-09T04:57:32.694Z"
   },
   {
    "duration": 2,
    "start_time": "2025-04-09T04:57:40.719Z"
   },
   {
    "duration": 11,
    "start_time": "2025-04-09T04:57:40.734Z"
   },
   {
    "duration": 12,
    "start_time": "2025-04-09T04:57:40.747Z"
   },
   {
    "duration": 9,
    "start_time": "2025-04-09T04:57:40.760Z"
   },
   {
    "duration": 15,
    "start_time": "2025-04-09T04:57:40.771Z"
   },
   {
    "duration": 2,
    "start_time": "2025-04-09T04:57:40.788Z"
   },
   {
    "duration": 12,
    "start_time": "2025-04-09T04:57:40.792Z"
   },
   {
    "duration": 9,
    "start_time": "2025-04-09T04:57:40.824Z"
   },
   {
    "duration": 9,
    "start_time": "2025-04-09T04:57:40.834Z"
   },
   {
    "duration": 9,
    "start_time": "2025-04-09T04:57:40.845Z"
   },
   {
    "duration": 991,
    "start_time": "2025-04-09T04:57:40.857Z"
   },
   {
    "duration": 581,
    "start_time": "2025-04-09T04:57:41.849Z"
   },
   {
    "duration": 311,
    "start_time": "2025-04-09T04:57:42.432Z"
   },
   {
    "duration": 271,
    "start_time": "2025-04-09T04:57:42.745Z"
   },
   {
    "duration": 312,
    "start_time": "2025-04-09T04:57:43.018Z"
   },
   {
    "duration": 234,
    "start_time": "2025-04-09T04:57:43.332Z"
   },
   {
    "duration": 11,
    "start_time": "2025-04-09T04:57:43.568Z"
   },
   {
    "duration": 277,
    "start_time": "2025-04-09T04:57:43.581Z"
   },
   {
    "duration": 593,
    "start_time": "2025-04-09T04:58:05.932Z"
   },
   {
    "duration": 571,
    "start_time": "2025-04-09T04:59:22.627Z"
   },
   {
    "duration": 577,
    "start_time": "2025-04-09T04:59:31.267Z"
   },
   {
    "duration": 618,
    "start_time": "2025-04-09T04:59:50.359Z"
   },
   {
    "duration": 5,
    "start_time": "2025-04-09T05:03:08.150Z"
   },
   {
    "duration": 11,
    "start_time": "2025-04-09T05:03:17.305Z"
   },
   {
    "duration": 404,
    "start_time": "2025-04-09T05:09:17.239Z"
   },
   {
    "duration": 261,
    "start_time": "2025-04-09T05:10:08.469Z"
   },
   {
    "duration": 307,
    "start_time": "2025-04-09T05:10:46.905Z"
   },
   {
    "duration": 295,
    "start_time": "2025-04-09T05:10:58.336Z"
   },
   {
    "duration": 211,
    "start_time": "2025-04-09T05:12:24.813Z"
   },
   {
    "duration": 379,
    "start_time": "2025-04-09T05:13:03.692Z"
   },
   {
    "duration": 271,
    "start_time": "2025-04-09T05:13:19.961Z"
   },
   {
    "duration": 281,
    "start_time": "2025-04-09T05:13:28.377Z"
   },
   {
    "duration": 249,
    "start_time": "2025-04-09T05:13:37.461Z"
   },
   {
    "duration": 240,
    "start_time": "2025-04-09T05:17:24.310Z"
   },
   {
    "duration": 408,
    "start_time": "2025-04-09T05:17:54.116Z"
   },
   {
    "duration": 285,
    "start_time": "2025-04-09T05:18:42.781Z"
   },
   {
    "duration": 275,
    "start_time": "2025-04-09T05:19:46.118Z"
   },
   {
    "duration": 390,
    "start_time": "2025-04-09T05:20:52.841Z"
   },
   {
    "duration": 896,
    "start_time": "2025-04-09T05:21:14.612Z"
   },
   {
    "duration": 234,
    "start_time": "2025-04-09T05:21:49.480Z"
   },
   {
    "duration": 198,
    "start_time": "2025-04-09T05:22:09.421Z"
   },
   {
    "duration": 176,
    "start_time": "2025-04-09T05:22:24.115Z"
   },
   {
    "duration": 106,
    "start_time": "2025-04-09T05:40:54.250Z"
   },
   {
    "duration": 101,
    "start_time": "2025-04-09T05:43:37.007Z"
   },
   {
    "duration": 3,
    "start_time": "2025-04-09T05:43:41.795Z"
   },
   {
    "duration": 10,
    "start_time": "2025-04-09T05:43:41.801Z"
   },
   {
    "duration": 9,
    "start_time": "2025-04-09T05:43:41.813Z"
   },
   {
    "duration": 9,
    "start_time": "2025-04-09T05:43:41.938Z"
   },
   {
    "duration": 16,
    "start_time": "2025-04-09T05:43:41.949Z"
   },
   {
    "duration": 2,
    "start_time": "2025-04-09T05:43:41.999Z"
   },
   {
    "duration": 11,
    "start_time": "2025-04-09T05:43:42.003Z"
   },
   {
    "duration": 9,
    "start_time": "2025-04-09T05:43:42.239Z"
   },
   {
    "duration": 8,
    "start_time": "2025-04-09T05:43:42.250Z"
   },
   {
    "duration": 9,
    "start_time": "2025-04-09T05:43:42.260Z"
   },
   {
    "duration": 955,
    "start_time": "2025-04-09T05:43:42.272Z"
   },
   {
    "duration": 413,
    "start_time": "2025-04-09T05:43:43.230Z"
   },
   {
    "duration": 302,
    "start_time": "2025-04-09T05:43:43.645Z"
   },
   {
    "duration": 288,
    "start_time": "2025-04-09T05:43:43.949Z"
   },
   {
    "duration": 269,
    "start_time": "2025-04-09T05:43:44.239Z"
   },
   {
    "duration": 283,
    "start_time": "2025-04-09T05:43:44.510Z"
   },
   {
    "duration": 323,
    "start_time": "2025-04-09T05:43:44.795Z"
   },
   {
    "duration": 258,
    "start_time": "2025-04-09T05:43:45.123Z"
   },
   {
    "duration": 10,
    "start_time": "2025-04-09T05:43:45.383Z"
   },
   {
    "duration": 140,
    "start_time": "2025-04-09T05:43:45.396Z"
   },
   {
    "duration": 256,
    "start_time": "2025-04-09T05:43:45.538Z"
   },
   {
    "duration": 126,
    "start_time": "2025-04-09T05:44:05.687Z"
   },
   {
    "duration": 126,
    "start_time": "2025-04-09T05:45:08.458Z"
   },
   {
    "duration": 91,
    "start_time": "2025-04-09T05:46:06.985Z"
   },
   {
    "duration": 5,
    "start_time": "2025-04-09T05:47:08.313Z"
   },
   {
    "duration": 5,
    "start_time": "2025-04-09T05:47:17.450Z"
   },
   {
    "duration": 4,
    "start_time": "2025-04-09T05:47:31.399Z"
   },
   {
    "duration": 105,
    "start_time": "2025-04-09T05:52:14.741Z"
   },
   {
    "duration": 13,
    "start_time": "2025-04-09T05:53:52.337Z"
   },
   {
    "duration": 4,
    "start_time": "2025-04-09T05:54:00.898Z"
   },
   {
    "duration": 14,
    "start_time": "2025-04-09T06:09:23.785Z"
   },
   {
    "duration": 96,
    "start_time": "2025-04-09T06:09:30.678Z"
   },
   {
    "duration": 107,
    "start_time": "2025-04-09T06:09:45.184Z"
   },
   {
    "duration": 114,
    "start_time": "2025-04-09T06:09:59.536Z"
   },
   {
    "duration": 378,
    "start_time": "2025-04-09T06:31:10.890Z"
   },
   {
    "duration": 137,
    "start_time": "2025-04-09T06:31:28.752Z"
   },
   {
    "duration": 3,
    "start_time": "2025-04-09T06:31:54.114Z"
   },
   {
    "duration": 3,
    "start_time": "2025-04-09T06:31:57.005Z"
   },
   {
    "duration": 16,
    "start_time": "2025-04-09T06:31:57.011Z"
   },
   {
    "duration": 13,
    "start_time": "2025-04-09T06:31:57.029Z"
   },
   {
    "duration": 12,
    "start_time": "2025-04-09T06:31:57.045Z"
   },
   {
    "duration": 17,
    "start_time": "2025-04-09T06:31:57.059Z"
   },
   {
    "duration": 3,
    "start_time": "2025-04-09T06:31:57.078Z"
   },
   {
    "duration": 47,
    "start_time": "2025-04-09T06:31:57.083Z"
   },
   {
    "duration": 10,
    "start_time": "2025-04-09T06:31:57.133Z"
   },
   {
    "duration": 10,
    "start_time": "2025-04-09T06:31:57.146Z"
   },
   {
    "duration": 11,
    "start_time": "2025-04-09T06:31:57.159Z"
   },
   {
    "duration": 1035,
    "start_time": "2025-04-09T06:31:57.172Z"
   },
   {
    "duration": 438,
    "start_time": "2025-04-09T06:31:58.209Z"
   },
   {
    "duration": 312,
    "start_time": "2025-04-09T06:31:58.649Z"
   },
   {
    "duration": 292,
    "start_time": "2025-04-09T06:31:58.962Z"
   },
   {
    "duration": 276,
    "start_time": "2025-04-09T06:31:59.256Z"
   },
   {
    "duration": 284,
    "start_time": "2025-04-09T06:31:59.533Z"
   },
   {
    "duration": 329,
    "start_time": "2025-04-09T06:31:59.823Z"
   },
   {
    "duration": 234,
    "start_time": "2025-04-09T06:32:00.154Z"
   },
   {
    "duration": 157,
    "start_time": "2025-04-09T06:32:00.391Z"
   },
   {
    "duration": 111,
    "start_time": "2025-04-09T06:32:00.550Z"
   },
   {
    "duration": 4,
    "start_time": "2025-04-09T06:32:00.663Z"
   },
   {
    "duration": 241,
    "start_time": "2025-04-09T06:32:00.668Z"
   },
   {
    "duration": 142,
    "start_time": "2025-04-09T06:32:00.911Z"
   },
   {
    "duration": 4,
    "start_time": "2025-04-09T06:32:01.055Z"
   },
   {
    "duration": 168,
    "start_time": "2025-04-09T06:32:01.061Z"
   },
   {
    "duration": 136,
    "start_time": "2025-04-09T06:32:59.133Z"
   },
   {
    "duration": 10,
    "start_time": "2025-04-09T06:40:54.083Z"
   },
   {
    "duration": 21,
    "start_time": "2025-04-09T06:48:49.677Z"
   },
   {
    "duration": 8,
    "start_time": "2025-04-09T06:49:08.080Z"
   },
   {
    "duration": 18,
    "start_time": "2025-04-09T06:52:38.915Z"
   },
   {
    "duration": 20,
    "start_time": "2025-04-09T06:53:06.290Z"
   },
   {
    "duration": 7,
    "start_time": "2025-04-09T06:53:15.518Z"
   },
   {
    "duration": 19,
    "start_time": "2025-04-09T06:54:31.224Z"
   },
   {
    "duration": 53,
    "start_time": "2025-04-09T06:58:38.610Z"
   },
   {
    "duration": 11,
    "start_time": "2025-04-09T06:59:11.720Z"
   },
   {
    "duration": 3,
    "start_time": "2025-04-09T07:12:39.595Z"
   },
   {
    "duration": 12,
    "start_time": "2025-04-09T07:12:39.602Z"
   },
   {
    "duration": 12,
    "start_time": "2025-04-09T07:12:39.615Z"
   },
   {
    "duration": 11,
    "start_time": "2025-04-09T07:12:39.698Z"
   },
   {
    "duration": 16,
    "start_time": "2025-04-09T07:12:39.711Z"
   },
   {
    "duration": 4,
    "start_time": "2025-04-09T07:12:39.729Z"
   },
   {
    "duration": 15,
    "start_time": "2025-04-09T07:12:39.734Z"
   },
   {
    "duration": 9,
    "start_time": "2025-04-09T07:12:39.751Z"
   },
   {
    "duration": 8,
    "start_time": "2025-04-09T07:12:39.761Z"
   },
   {
    "duration": 9,
    "start_time": "2025-04-09T07:12:39.858Z"
   },
   {
    "duration": 435,
    "start_time": "2025-04-09T07:12:39.870Z"
   },
   {
    "duration": 318,
    "start_time": "2025-04-09T07:12:40.307Z"
   },
   {
    "duration": 270,
    "start_time": "2025-04-09T07:12:40.626Z"
   },
   {
    "duration": 336,
    "start_time": "2025-04-09T07:12:40.898Z"
   },
   {
    "duration": 240,
    "start_time": "2025-04-09T07:12:41.237Z"
   },
   {
    "duration": 117,
    "start_time": "2025-04-09T07:12:41.480Z"
   },
   {
    "duration": 96,
    "start_time": "2025-04-09T07:12:41.599Z"
   },
   {
    "duration": 4,
    "start_time": "2025-04-09T07:12:41.697Z"
   },
   {
    "duration": 287,
    "start_time": "2025-04-09T07:12:41.703Z"
   },
   {
    "duration": 115,
    "start_time": "2025-04-09T07:12:41.993Z"
   },
   {
    "duration": 15,
    "start_time": "2025-04-09T07:12:42.109Z"
   },
   {
    "duration": 146,
    "start_time": "2025-04-09T07:12:42.126Z"
   },
   {
    "duration": 8,
    "start_time": "2025-04-09T07:12:42.274Z"
   },
   {
    "duration": 6,
    "start_time": "2025-04-09T07:12:42.284Z"
   },
   {
    "duration": 40,
    "start_time": "2025-04-09T07:12:42.292Z"
   },
   {
    "duration": 11,
    "start_time": "2025-04-09T07:12:42.334Z"
   },
   {
    "duration": 3,
    "start_time": "2025-04-09T07:21:42.319Z"
   },
   {
    "duration": 12,
    "start_time": "2025-04-09T07:21:42.325Z"
   },
   {
    "duration": 13,
    "start_time": "2025-04-09T07:21:42.339Z"
   },
   {
    "duration": 12,
    "start_time": "2025-04-09T07:21:42.354Z"
   },
   {
    "duration": 18,
    "start_time": "2025-04-09T07:21:42.368Z"
   },
   {
    "duration": 37,
    "start_time": "2025-04-09T07:21:42.388Z"
   },
   {
    "duration": 13,
    "start_time": "2025-04-09T07:21:42.428Z"
   },
   {
    "duration": 12,
    "start_time": "2025-04-09T07:21:42.442Z"
   },
   {
    "duration": 11,
    "start_time": "2025-04-09T07:21:42.457Z"
   },
   {
    "duration": 11,
    "start_time": "2025-04-09T07:21:42.470Z"
   },
   {
    "duration": 476,
    "start_time": "2025-04-09T07:21:42.482Z"
   },
   {
    "duration": 310,
    "start_time": "2025-04-09T07:21:42.960Z"
   },
   {
    "duration": 273,
    "start_time": "2025-04-09T07:21:43.272Z"
   },
   {
    "duration": 308,
    "start_time": "2025-04-09T07:21:43.547Z"
   },
   {
    "duration": 232,
    "start_time": "2025-04-09T07:21:43.857Z"
   },
   {
    "duration": 121,
    "start_time": "2025-04-09T07:21:44.091Z"
   },
   {
    "duration": 312,
    "start_time": "2025-04-09T07:21:44.214Z"
   },
   {
    "duration": 4,
    "start_time": "2025-04-09T07:21:44.528Z"
   },
   {
    "duration": 266,
    "start_time": "2025-04-09T07:21:44.534Z"
   },
   {
    "duration": 123,
    "start_time": "2025-04-09T07:21:44.801Z"
   },
   {
    "duration": 4,
    "start_time": "2025-04-09T07:21:44.926Z"
   },
   {
    "duration": 155,
    "start_time": "2025-04-09T07:21:44.932Z"
   },
   {
    "duration": 9,
    "start_time": "2025-04-09T07:21:45.089Z"
   },
   {
    "duration": 24,
    "start_time": "2025-04-09T07:21:45.100Z"
   },
   {
    "duration": 21,
    "start_time": "2025-04-09T07:21:45.126Z"
   },
   {
    "duration": 11,
    "start_time": "2025-04-09T07:21:45.149Z"
   },
   {
    "duration": 3,
    "start_time": "2025-04-09T07:41:31.965Z"
   },
   {
    "duration": 12,
    "start_time": "2025-04-09T07:41:31.970Z"
   },
   {
    "duration": 11,
    "start_time": "2025-04-09T07:41:31.984Z"
   },
   {
    "duration": 9,
    "start_time": "2025-04-09T07:41:31.997Z"
   },
   {
    "duration": 15,
    "start_time": "2025-04-09T07:41:32.009Z"
   },
   {
    "duration": 3,
    "start_time": "2025-04-09T07:41:32.026Z"
   },
   {
    "duration": 12,
    "start_time": "2025-04-09T07:41:32.031Z"
   },
   {
    "duration": 8,
    "start_time": "2025-04-09T07:41:32.045Z"
   },
   {
    "duration": 8,
    "start_time": "2025-04-09T07:41:32.055Z"
   },
   {
    "duration": 10,
    "start_time": "2025-04-09T07:41:32.065Z"
   },
   {
    "duration": 455,
    "start_time": "2025-04-09T07:41:32.077Z"
   },
   {
    "duration": 298,
    "start_time": "2025-04-09T07:41:32.533Z"
   },
   {
    "duration": 259,
    "start_time": "2025-04-09T07:41:32.833Z"
   },
   {
    "duration": 336,
    "start_time": "2025-04-09T07:41:33.094Z"
   },
   {
    "duration": 239,
    "start_time": "2025-04-09T07:41:33.432Z"
   },
   {
    "duration": 127,
    "start_time": "2025-04-09T07:41:33.673Z"
   },
   {
    "duration": 103,
    "start_time": "2025-04-09T07:41:33.802Z"
   },
   {
    "duration": 4,
    "start_time": "2025-04-09T07:41:33.907Z"
   },
   {
    "duration": 260,
    "start_time": "2025-04-09T07:41:33.924Z"
   },
   {
    "duration": 113,
    "start_time": "2025-04-09T07:41:34.186Z"
   },
   {
    "duration": 4,
    "start_time": "2025-04-09T07:41:34.300Z"
   },
   {
    "duration": 149,
    "start_time": "2025-04-09T07:41:34.305Z"
   },
   {
    "duration": 8,
    "start_time": "2025-04-09T07:41:34.457Z"
   },
   {
    "duration": 7,
    "start_time": "2025-04-09T07:41:34.467Z"
   },
   {
    "duration": 19,
    "start_time": "2025-04-09T07:41:34.476Z"
   },
   {
    "duration": 36,
    "start_time": "2025-04-09T07:41:34.497Z"
   },
   {
    "duration": 2,
    "start_time": "2025-04-09T07:43:26.051Z"
   },
   {
    "duration": 16,
    "start_time": "2025-04-09T07:43:26.056Z"
   },
   {
    "duration": 11,
    "start_time": "2025-04-09T07:43:26.074Z"
   },
   {
    "duration": 10,
    "start_time": "2025-04-09T07:43:26.086Z"
   },
   {
    "duration": 20,
    "start_time": "2025-04-09T07:43:26.099Z"
   },
   {
    "duration": 3,
    "start_time": "2025-04-09T07:43:26.121Z"
   },
   {
    "duration": 13,
    "start_time": "2025-04-09T07:43:26.126Z"
   },
   {
    "duration": 8,
    "start_time": "2025-04-09T07:43:26.141Z"
   },
   {
    "duration": 8,
    "start_time": "2025-04-09T07:43:26.151Z"
   },
   {
    "duration": 9,
    "start_time": "2025-04-09T07:43:26.161Z"
   },
   {
    "duration": 445,
    "start_time": "2025-04-09T07:43:26.173Z"
   },
   {
    "duration": 304,
    "start_time": "2025-04-09T07:43:26.620Z"
   },
   {
    "duration": 265,
    "start_time": "2025-04-09T07:43:26.926Z"
   },
   {
    "duration": 341,
    "start_time": "2025-04-09T07:43:27.193Z"
   },
   {
    "duration": 234,
    "start_time": "2025-04-09T07:43:27.536Z"
   },
   {
    "duration": 123,
    "start_time": "2025-04-09T07:43:27.772Z"
   },
   {
    "duration": 94,
    "start_time": "2025-04-09T07:43:27.896Z"
   },
   {
    "duration": 3,
    "start_time": "2025-04-09T07:43:27.994Z"
   },
   {
    "duration": 284,
    "start_time": "2025-04-09T07:43:27.999Z"
   },
   {
    "duration": 114,
    "start_time": "2025-04-09T07:43:28.285Z"
   },
   {
    "duration": 4,
    "start_time": "2025-04-09T07:43:28.401Z"
   },
   {
    "duration": 157,
    "start_time": "2025-04-09T07:43:28.407Z"
   },
   {
    "duration": 9,
    "start_time": "2025-04-09T07:43:28.566Z"
   },
   {
    "duration": 7,
    "start_time": "2025-04-09T07:43:28.577Z"
   },
   {
    "duration": 38,
    "start_time": "2025-04-09T07:43:28.586Z"
   },
   {
    "duration": 11,
    "start_time": "2025-04-09T07:43:28.626Z"
   },
   {
    "duration": 2576,
    "start_time": "2025-04-09T08:30:21.868Z"
   },
   {
    "duration": 15,
    "start_time": "2025-04-09T08:30:24.447Z"
   },
   {
    "duration": 17,
    "start_time": "2025-04-09T08:30:24.464Z"
   },
   {
    "duration": 13,
    "start_time": "2025-04-09T08:30:24.482Z"
   },
   {
    "duration": 21,
    "start_time": "2025-04-09T08:30:24.498Z"
   },
   {
    "duration": 4,
    "start_time": "2025-04-09T08:30:24.521Z"
   },
   {
    "duration": 14,
    "start_time": "2025-04-09T08:30:24.526Z"
   },
   {
    "duration": 7,
    "start_time": "2025-04-09T08:30:24.542Z"
   },
   {
    "duration": 8,
    "start_time": "2025-04-09T08:30:24.551Z"
   },
   {
    "duration": 9,
    "start_time": "2025-04-09T08:30:24.561Z"
   },
   {
    "duration": 458,
    "start_time": "2025-04-09T08:30:24.604Z"
   },
   {
    "duration": 324,
    "start_time": "2025-04-09T08:30:25.064Z"
   },
   {
    "duration": 284,
    "start_time": "2025-04-09T08:30:25.391Z"
   },
   {
    "duration": 328,
    "start_time": "2025-04-09T08:30:25.680Z"
   },
   {
    "duration": 252,
    "start_time": "2025-04-09T08:30:26.010Z"
   },
   {
    "duration": 124,
    "start_time": "2025-04-09T08:30:26.264Z"
   },
   {
    "duration": 93,
    "start_time": "2025-04-09T08:30:26.390Z"
   },
   {
    "duration": 283,
    "start_time": "2025-04-09T08:30:26.486Z"
   },
   {
    "duration": 0,
    "start_time": "2025-04-09T08:30:26.771Z"
   },
   {
    "duration": 0,
    "start_time": "2025-04-09T08:30:26.772Z"
   },
   {
    "duration": 0,
    "start_time": "2025-04-09T08:30:26.773Z"
   },
   {
    "duration": 0,
    "start_time": "2025-04-09T08:30:26.774Z"
   },
   {
    "duration": 0,
    "start_time": "2025-04-09T08:30:26.776Z"
   },
   {
    "duration": 0,
    "start_time": "2025-04-09T08:30:26.777Z"
   },
   {
    "duration": 0,
    "start_time": "2025-04-09T08:30:26.778Z"
   },
   {
    "duration": 0,
    "start_time": "2025-04-09T08:30:26.779Z"
   },
   {
    "duration": 840,
    "start_time": "2025-04-09T08:33:04.086Z"
   },
   {
    "duration": 12,
    "start_time": "2025-04-09T08:33:04.930Z"
   },
   {
    "duration": 12,
    "start_time": "2025-04-09T08:33:04.944Z"
   },
   {
    "duration": 8,
    "start_time": "2025-04-09T08:33:04.958Z"
   },
   {
    "duration": 17,
    "start_time": "2025-04-09T08:33:04.968Z"
   },
   {
    "duration": 20,
    "start_time": "2025-04-09T08:33:04.986Z"
   },
   {
    "duration": 13,
    "start_time": "2025-04-09T08:33:05.008Z"
   },
   {
    "duration": 8,
    "start_time": "2025-04-09T08:33:05.023Z"
   },
   {
    "duration": 9,
    "start_time": "2025-04-09T08:33:05.033Z"
   },
   {
    "duration": 9,
    "start_time": "2025-04-09T08:33:05.045Z"
   },
   {
    "duration": 490,
    "start_time": "2025-04-09T08:33:05.055Z"
   },
   {
    "duration": 285,
    "start_time": "2025-04-09T08:33:05.547Z"
   },
   {
    "duration": 325,
    "start_time": "2025-04-09T08:33:05.833Z"
   },
   {
    "duration": 308,
    "start_time": "2025-04-09T08:33:06.160Z"
   },
   {
    "duration": 195,
    "start_time": "2025-04-09T08:33:06.470Z"
   },
   {
    "duration": 142,
    "start_time": "2025-04-09T08:33:06.668Z"
   },
   {
    "duration": 104,
    "start_time": "2025-04-09T08:33:06.812Z"
   },
   {
    "duration": 222,
    "start_time": "2025-04-09T08:33:06.917Z"
   },
   {
    "duration": 0,
    "start_time": "2025-04-09T08:33:07.141Z"
   },
   {
    "duration": 0,
    "start_time": "2025-04-09T08:33:07.142Z"
   },
   {
    "duration": 0,
    "start_time": "2025-04-09T08:33:07.144Z"
   },
   {
    "duration": 0,
    "start_time": "2025-04-09T08:33:07.145Z"
   },
   {
    "duration": 0,
    "start_time": "2025-04-09T08:33:07.146Z"
   },
   {
    "duration": 0,
    "start_time": "2025-04-09T08:33:07.147Z"
   },
   {
    "duration": 0,
    "start_time": "2025-04-09T08:33:07.149Z"
   },
   {
    "duration": 0,
    "start_time": "2025-04-09T08:33:07.150Z"
   },
   {
    "duration": 251,
    "start_time": "2025-04-09T08:33:19.679Z"
   },
   {
    "duration": 104,
    "start_time": "2025-04-09T08:33:21.183Z"
   },
   {
    "duration": 4,
    "start_time": "2025-04-09T08:33:21.516Z"
   },
   {
    "duration": 134,
    "start_time": "2025-04-09T08:33:22.000Z"
   },
   {
    "duration": 9,
    "start_time": "2025-04-09T08:33:22.669Z"
   },
   {
    "duration": 8,
    "start_time": "2025-04-09T08:33:23.322Z"
   },
   {
    "duration": 19,
    "start_time": "2025-04-09T08:33:23.667Z"
   },
   {
    "duration": 13,
    "start_time": "2025-04-09T08:33:24.326Z"
   },
   {
    "duration": 420,
    "start_time": "2025-04-09T08:57:23.082Z"
   },
   {
    "duration": 177,
    "start_time": "2025-04-10T07:07:06.743Z"
   },
   {
    "duration": 2751,
    "start_time": "2025-04-10T07:07:09.221Z"
   },
   {
    "duration": 30,
    "start_time": "2025-04-10T07:07:11.975Z"
   },
   {
    "duration": 13,
    "start_time": "2025-04-10T07:07:12.014Z"
   },
   {
    "duration": 12,
    "start_time": "2025-04-10T07:07:12.028Z"
   },
   {
    "duration": 17,
    "start_time": "2025-04-10T07:07:12.042Z"
   },
   {
    "duration": 3,
    "start_time": "2025-04-10T07:07:12.061Z"
   },
   {
    "duration": 16,
    "start_time": "2025-04-10T07:07:12.066Z"
   },
   {
    "duration": 23,
    "start_time": "2025-04-10T07:07:12.092Z"
   },
   {
    "duration": 14,
    "start_time": "2025-04-10T07:07:12.118Z"
   },
   {
    "duration": 10,
    "start_time": "2025-04-10T07:07:12.134Z"
   },
   {
    "duration": 485,
    "start_time": "2025-04-10T07:07:12.146Z"
   },
   {
    "duration": 271,
    "start_time": "2025-04-10T07:07:12.633Z"
   },
   {
    "duration": 288,
    "start_time": "2025-04-10T07:07:12.906Z"
   },
   {
    "duration": 304,
    "start_time": "2025-04-10T07:07:13.198Z"
   },
   {
    "duration": 229,
    "start_time": "2025-04-10T07:07:13.506Z"
   },
   {
    "duration": 127,
    "start_time": "2025-04-10T07:07:13.737Z"
   },
   {
    "duration": 110,
    "start_time": "2025-04-10T07:07:13.865Z"
   },
   {
    "duration": 96,
    "start_time": "2025-04-10T07:07:13.977Z"
   },
   {
    "duration": 0,
    "start_time": "2025-04-10T07:07:14.075Z"
   },
   {
    "duration": 0,
    "start_time": "2025-04-10T07:07:14.077Z"
   },
   {
    "duration": 0,
    "start_time": "2025-04-10T07:07:14.078Z"
   },
   {
    "duration": 0,
    "start_time": "2025-04-10T07:07:14.079Z"
   },
   {
    "duration": 0,
    "start_time": "2025-04-10T07:07:14.081Z"
   },
   {
    "duration": 0,
    "start_time": "2025-04-10T07:07:14.083Z"
   },
   {
    "duration": 0,
    "start_time": "2025-04-10T07:07:14.084Z"
   },
   {
    "duration": 0,
    "start_time": "2025-04-10T07:07:14.085Z"
   },
   {
    "duration": 3,
    "start_time": "2025-04-10T07:09:39.860Z"
   },
   {
    "duration": 12,
    "start_time": "2025-04-10T07:09:39.866Z"
   },
   {
    "duration": 18,
    "start_time": "2025-04-10T07:09:39.880Z"
   },
   {
    "duration": 9,
    "start_time": "2025-04-10T07:09:39.900Z"
   },
   {
    "duration": 16,
    "start_time": "2025-04-10T07:09:39.911Z"
   },
   {
    "duration": 2,
    "start_time": "2025-04-10T07:09:39.929Z"
   },
   {
    "duration": 10,
    "start_time": "2025-04-10T07:09:39.933Z"
   },
   {
    "duration": 8,
    "start_time": "2025-04-10T07:09:39.945Z"
   },
   {
    "duration": 51,
    "start_time": "2025-04-10T07:09:39.954Z"
   },
   {
    "duration": 9,
    "start_time": "2025-04-10T07:09:40.007Z"
   },
   {
    "duration": 423,
    "start_time": "2025-04-10T07:09:40.019Z"
   },
   {
    "duration": 320,
    "start_time": "2025-04-10T07:09:40.444Z"
   },
   {
    "duration": 363,
    "start_time": "2025-04-10T07:09:40.766Z"
   },
   {
    "duration": 300,
    "start_time": "2025-04-10T07:09:41.133Z"
   },
   {
    "duration": 242,
    "start_time": "2025-04-10T07:09:41.435Z"
   },
   {
    "duration": 134,
    "start_time": "2025-04-10T07:09:41.679Z"
   },
   {
    "duration": 104,
    "start_time": "2025-04-10T07:09:41.815Z"
   },
   {
    "duration": 4,
    "start_time": "2025-04-10T07:09:41.920Z"
   },
   {
    "duration": 253,
    "start_time": "2025-04-10T07:09:41.926Z"
   },
   {
    "duration": 133,
    "start_time": "2025-04-10T07:09:42.181Z"
   },
   {
    "duration": 4,
    "start_time": "2025-04-10T07:09:42.319Z"
   },
   {
    "duration": 150,
    "start_time": "2025-04-10T07:09:42.325Z"
   },
   {
    "duration": 22,
    "start_time": "2025-04-10T07:09:42.477Z"
   },
   {
    "duration": 11,
    "start_time": "2025-04-10T07:09:42.501Z"
   },
   {
    "duration": 24,
    "start_time": "2025-04-10T07:09:42.513Z"
   },
   {
    "duration": 10,
    "start_time": "2025-04-10T07:09:42.539Z"
   },
   {
    "duration": 596,
    "start_time": "2025-04-10T07:10:48.228Z"
   },
   {
    "duration": 225,
    "start_time": "2025-04-10T07:11:00.141Z"
   },
   {
    "duration": 17,
    "start_time": "2025-04-10T07:12:02.555Z"
   },
   {
    "duration": 346,
    "start_time": "2025-04-10T07:12:56.591Z"
   },
   {
    "duration": 19,
    "start_time": "2025-04-10T07:14:24.255Z"
   },
   {
    "duration": 20,
    "start_time": "2025-04-10T07:15:13.019Z"
   },
   {
    "duration": 171,
    "start_time": "2025-04-10T07:15:27.573Z"
   },
   {
    "duration": 326,
    "start_time": "2025-04-10T07:22:30.909Z"
   },
   {
    "duration": 6,
    "start_time": "2025-04-10T07:25:16.785Z"
   },
   {
    "duration": 18,
    "start_time": "2025-04-10T07:25:38.380Z"
   },
   {
    "duration": 231,
    "start_time": "2025-04-10T07:25:50.232Z"
   },
   {
    "duration": 370,
    "start_time": "2025-04-10T07:26:08.061Z"
   },
   {
    "duration": 157,
    "start_time": "2025-04-10T07:33:57.938Z"
   },
   {
    "duration": 5,
    "start_time": "2025-04-10T07:35:01.504Z"
   },
   {
    "duration": 133,
    "start_time": "2025-04-10T07:35:18.695Z"
   },
   {
    "duration": 138,
    "start_time": "2025-04-10T07:36:09.420Z"
   },
   {
    "duration": 156,
    "start_time": "2025-04-10T07:36:59.672Z"
   },
   {
    "duration": 145,
    "start_time": "2025-04-10T07:37:05.014Z"
   },
   {
    "duration": 129,
    "start_time": "2025-04-10T07:37:15.827Z"
   },
   {
    "duration": 139,
    "start_time": "2025-04-10T07:37:25.656Z"
   },
   {
    "duration": 129,
    "start_time": "2025-04-10T07:37:39.713Z"
   },
   {
    "duration": 128,
    "start_time": "2025-04-10T07:37:52.746Z"
   },
   {
    "duration": 166,
    "start_time": "2025-04-11T20:37:24.291Z"
   },
   {
    "duration": 2575,
    "start_time": "2025-04-11T20:37:27.764Z"
   },
   {
    "duration": 16,
    "start_time": "2025-04-11T20:37:30.341Z"
   },
   {
    "duration": 14,
    "start_time": "2025-04-11T20:37:30.359Z"
   },
   {
    "duration": 13,
    "start_time": "2025-04-11T20:37:30.375Z"
   },
   {
    "duration": 19,
    "start_time": "2025-04-11T20:37:30.389Z"
   },
   {
    "duration": 7,
    "start_time": "2025-04-11T20:37:30.409Z"
   },
   {
    "duration": 14,
    "start_time": "2025-04-11T20:37:30.430Z"
   },
   {
    "duration": 9,
    "start_time": "2025-04-11T20:37:30.446Z"
   },
   {
    "duration": 5,
    "start_time": "2025-04-11T20:37:30.456Z"
   },
   {
    "duration": 9,
    "start_time": "2025-04-11T20:37:30.465Z"
   },
   {
    "duration": 10,
    "start_time": "2025-04-11T20:37:30.476Z"
   },
   {
    "duration": 516,
    "start_time": "2025-04-11T20:37:30.488Z"
   },
   {
    "duration": 338,
    "start_time": "2025-04-11T20:37:31.006Z"
   },
   {
    "duration": 260,
    "start_time": "2025-04-11T20:37:31.345Z"
   },
   {
    "duration": 332,
    "start_time": "2025-04-11T20:37:31.607Z"
   },
   {
    "duration": 252,
    "start_time": "2025-04-11T20:37:31.942Z"
   },
   {
    "duration": 114,
    "start_time": "2025-04-11T20:37:32.196Z"
   },
   {
    "duration": 112,
    "start_time": "2025-04-11T20:37:32.312Z"
   },
   {
    "duration": 4,
    "start_time": "2025-04-11T20:37:32.431Z"
   },
   {
    "duration": 345,
    "start_time": "2025-04-11T20:37:32.437Z"
   },
   {
    "duration": 125,
    "start_time": "2025-04-11T20:37:32.784Z"
   },
   {
    "duration": 4,
    "start_time": "2025-04-11T20:37:32.911Z"
   },
   {
    "duration": 227,
    "start_time": "2025-04-11T20:37:32.917Z"
   },
   {
    "duration": 8,
    "start_time": "2025-04-11T20:37:33.146Z"
   },
   {
    "duration": 7,
    "start_time": "2025-04-11T20:37:33.156Z"
   },
   {
    "duration": 19,
    "start_time": "2025-04-11T20:37:33.164Z"
   },
   {
    "duration": 11,
    "start_time": "2025-04-11T20:37:33.185Z"
   },
   {
    "duration": 8,
    "start_time": "2025-04-11T20:37:44.161Z"
   },
   {
    "duration": 9,
    "start_time": "2025-04-11T20:47:10.182Z"
   },
   {
    "duration": 12,
    "start_time": "2025-04-11T20:47:29.300Z"
   },
   {
    "duration": 10,
    "start_time": "2025-04-11T20:48:02.312Z"
   },
   {
    "duration": 8,
    "start_time": "2025-04-11T20:48:07.248Z"
   },
   {
    "duration": 8,
    "start_time": "2025-04-11T20:48:26.967Z"
   },
   {
    "duration": 3,
    "start_time": "2025-04-11T20:50:20.254Z"
   },
   {
    "duration": 16,
    "start_time": "2025-04-11T20:50:20.260Z"
   },
   {
    "duration": 12,
    "start_time": "2025-04-11T20:50:20.278Z"
   },
   {
    "duration": 15,
    "start_time": "2025-04-11T20:50:20.292Z"
   },
   {
    "duration": 16,
    "start_time": "2025-04-11T20:50:20.309Z"
   },
   {
    "duration": 6,
    "start_time": "2025-04-11T20:50:20.331Z"
   },
   {
    "duration": 13,
    "start_time": "2025-04-11T20:50:20.339Z"
   },
   {
    "duration": 10,
    "start_time": "2025-04-11T20:50:20.354Z"
   },
   {
    "duration": 4,
    "start_time": "2025-04-11T20:50:20.366Z"
   },
   {
    "duration": 8,
    "start_time": "2025-04-11T20:50:20.372Z"
   },
   {
    "duration": 12,
    "start_time": "2025-04-11T20:50:20.384Z"
   },
   {
    "duration": 42,
    "start_time": "2025-04-11T20:50:20.399Z"
   },
   {
    "duration": 446,
    "start_time": "2025-04-11T20:50:20.443Z"
   },
   {
    "duration": 334,
    "start_time": "2025-04-11T20:50:20.891Z"
   },
   {
    "duration": 278,
    "start_time": "2025-04-11T20:50:21.231Z"
   },
   {
    "duration": 335,
    "start_time": "2025-04-11T20:50:21.511Z"
   },
   {
    "duration": 243,
    "start_time": "2025-04-11T20:50:21.849Z"
   },
   {
    "duration": 137,
    "start_time": "2025-04-11T20:50:22.095Z"
   },
   {
    "duration": 142,
    "start_time": "2025-04-11T20:50:22.234Z"
   },
   {
    "duration": 5,
    "start_time": "2025-04-11T20:50:22.378Z"
   },
   {
    "duration": 391,
    "start_time": "2025-04-11T20:50:22.384Z"
   },
   {
    "duration": 134,
    "start_time": "2025-04-11T20:50:22.777Z"
   },
   {
    "duration": 4,
    "start_time": "2025-04-11T20:50:22.913Z"
   },
   {
    "duration": 165,
    "start_time": "2025-04-11T20:50:22.930Z"
   },
   {
    "duration": 10,
    "start_time": "2025-04-11T20:50:23.098Z"
   },
   {
    "duration": 21,
    "start_time": "2025-04-11T20:50:23.110Z"
   },
   {
    "duration": 8,
    "start_time": "2025-04-11T20:50:23.135Z"
   },
   {
    "duration": 24,
    "start_time": "2025-04-11T20:50:23.145Z"
   },
   {
    "duration": 10,
    "start_time": "2025-04-11T20:50:23.171Z"
   },
   {
    "duration": 8,
    "start_time": "2025-04-12T09:34:24.566Z"
   },
   {
    "duration": 164,
    "start_time": "2025-04-12T09:35:18.862Z"
   },
   {
    "duration": 2609,
    "start_time": "2025-04-12T09:35:22.365Z"
   },
   {
    "duration": 14,
    "start_time": "2025-04-12T09:35:24.976Z"
   },
   {
    "duration": 18,
    "start_time": "2025-04-12T09:35:24.992Z"
   },
   {
    "duration": 11,
    "start_time": "2025-04-12T09:35:25.013Z"
   },
   {
    "duration": 21,
    "start_time": "2025-04-12T09:35:25.026Z"
   },
   {
    "duration": 4,
    "start_time": "2025-04-12T09:35:25.049Z"
   },
   {
    "duration": 16,
    "start_time": "2025-04-12T09:35:25.054Z"
   },
   {
    "duration": 34,
    "start_time": "2025-04-12T09:35:25.073Z"
   },
   {
    "duration": 7,
    "start_time": "2025-04-12T09:35:25.108Z"
   },
   {
    "duration": 9,
    "start_time": "2025-04-12T09:35:25.118Z"
   },
   {
    "duration": 9,
    "start_time": "2025-04-12T09:35:25.128Z"
   },
   {
    "duration": 9,
    "start_time": "2025-04-12T09:35:25.139Z"
   },
   {
    "duration": 483,
    "start_time": "2025-04-12T09:35:25.150Z"
   },
   {
    "duration": 292,
    "start_time": "2025-04-12T09:35:25.637Z"
   },
   {
    "duration": 247,
    "start_time": "2025-04-12T09:35:25.931Z"
   },
   {
    "duration": 333,
    "start_time": "2025-04-12T09:35:26.181Z"
   },
   {
    "duration": 251,
    "start_time": "2025-04-12T09:35:26.516Z"
   },
   {
    "duration": 116,
    "start_time": "2025-04-12T09:35:26.769Z"
   },
   {
    "duration": 104,
    "start_time": "2025-04-12T09:35:26.887Z"
   },
   {
    "duration": 14,
    "start_time": "2025-04-12T09:35:26.993Z"
   },
   {
    "duration": 345,
    "start_time": "2025-04-12T09:35:27.008Z"
   },
   {
    "duration": 120,
    "start_time": "2025-04-12T09:35:27.355Z"
   },
   {
    "duration": 4,
    "start_time": "2025-04-12T09:35:27.476Z"
   },
   {
    "duration": 145,
    "start_time": "2025-04-12T09:35:27.482Z"
   },
   {
    "duration": 8,
    "start_time": "2025-04-12T09:35:27.629Z"
   },
   {
    "duration": 8,
    "start_time": "2025-04-12T09:35:27.639Z"
   },
   {
    "duration": 22,
    "start_time": "2025-04-12T09:35:27.648Z"
   },
   {
    "duration": 35,
    "start_time": "2025-04-12T09:35:27.673Z"
   },
   {
    "duration": 4,
    "start_time": "2025-04-12T09:36:36.144Z"
   },
   {
    "duration": 4,
    "start_time": "2025-04-12T09:37:00.584Z"
   },
   {
    "duration": 8,
    "start_time": "2025-04-12T09:37:18.494Z"
   },
   {
    "duration": 8,
    "start_time": "2025-04-12T09:38:02.399Z"
   },
   {
    "duration": 81,
    "start_time": "2025-04-12T09:47:11.094Z"
   },
   {
    "duration": 326,
    "start_time": "2025-04-12T09:47:20.045Z"
   },
   {
    "duration": 421,
    "start_time": "2025-04-12T09:52:45.399Z"
   },
   {
    "duration": 282,
    "start_time": "2025-04-12T09:53:06.253Z"
   },
   {
    "duration": 2471,
    "start_time": "2025-04-12T12:49:28.786Z"
   },
   {
    "duration": 16,
    "start_time": "2025-04-12T12:49:31.259Z"
   },
   {
    "duration": 15,
    "start_time": "2025-04-12T12:49:31.277Z"
   },
   {
    "duration": 13,
    "start_time": "2025-04-12T12:49:31.295Z"
   },
   {
    "duration": 15,
    "start_time": "2025-04-12T12:49:31.312Z"
   },
   {
    "duration": 3,
    "start_time": "2025-04-12T12:49:31.329Z"
   },
   {
    "duration": 13,
    "start_time": "2025-04-12T12:49:31.334Z"
   },
   {
    "duration": 9,
    "start_time": "2025-04-12T12:49:31.348Z"
   },
   {
    "duration": 6,
    "start_time": "2025-04-12T12:49:31.359Z"
   },
   {
    "duration": 45,
    "start_time": "2025-04-12T12:49:31.368Z"
   },
   {
    "duration": 10,
    "start_time": "2025-04-12T12:49:31.415Z"
   },
   {
    "duration": 10,
    "start_time": "2025-04-12T12:49:31.426Z"
   },
   {
    "duration": 475,
    "start_time": "2025-04-12T12:49:31.437Z"
   },
   {
    "duration": 312,
    "start_time": "2025-04-12T12:49:31.914Z"
   },
   {
    "duration": 255,
    "start_time": "2025-04-12T12:49:32.228Z"
   },
   {
    "duration": 335,
    "start_time": "2025-04-12T12:49:32.486Z"
   },
   {
    "duration": 366,
    "start_time": "2025-04-12T12:49:32.822Z"
   },
   {
    "duration": 265,
    "start_time": "2025-04-12T12:49:33.190Z"
   },
   {
    "duration": 125,
    "start_time": "2025-04-12T12:49:33.457Z"
   },
   {
    "duration": 179,
    "start_time": "2025-04-12T12:49:33.584Z"
   },
   {
    "duration": 4,
    "start_time": "2025-04-12T12:49:33.766Z"
   },
   {
    "duration": 367,
    "start_time": "2025-04-12T12:49:33.772Z"
   },
   {
    "duration": 116,
    "start_time": "2025-04-12T12:49:34.140Z"
   },
   {
    "duration": 4,
    "start_time": "2025-04-12T12:49:34.258Z"
   },
   {
    "duration": 131,
    "start_time": "2025-04-12T12:49:34.264Z"
   },
   {
    "duration": 15,
    "start_time": "2025-04-12T12:49:34.397Z"
   },
   {
    "duration": 9,
    "start_time": "2025-04-12T12:49:34.413Z"
   },
   {
    "duration": 19,
    "start_time": "2025-04-12T12:49:34.425Z"
   },
   {
    "duration": 10,
    "start_time": "2025-04-12T12:49:34.445Z"
   },
   {
    "duration": 2573,
    "start_time": "2025-04-12T13:52:10.160Z"
   },
   {
    "duration": 14,
    "start_time": "2025-04-12T13:52:12.735Z"
   },
   {
    "duration": 12,
    "start_time": "2025-04-12T13:52:12.750Z"
   },
   {
    "duration": 10,
    "start_time": "2025-04-12T13:52:12.764Z"
   },
   {
    "duration": 16,
    "start_time": "2025-04-12T13:52:12.787Z"
   },
   {
    "duration": 2,
    "start_time": "2025-04-12T13:52:12.805Z"
   },
   {
    "duration": 13,
    "start_time": "2025-04-12T13:52:12.809Z"
   },
   {
    "duration": 8,
    "start_time": "2025-04-12T13:52:12.824Z"
   },
   {
    "duration": 5,
    "start_time": "2025-04-12T13:52:12.834Z"
   },
   {
    "duration": 8,
    "start_time": "2025-04-12T13:52:12.842Z"
   },
   {
    "duration": 10,
    "start_time": "2025-04-12T13:52:12.887Z"
   },
   {
    "duration": 10,
    "start_time": "2025-04-12T13:52:12.898Z"
   },
   {
    "duration": 473,
    "start_time": "2025-04-12T13:52:12.910Z"
   },
   {
    "duration": 316,
    "start_time": "2025-04-12T13:52:13.385Z"
   },
   {
    "duration": 257,
    "start_time": "2025-04-12T13:52:13.703Z"
   },
   {
    "duration": 331,
    "start_time": "2025-04-12T13:52:13.962Z"
   },
   {
    "duration": 350,
    "start_time": "2025-04-12T13:52:14.295Z"
   },
   {
    "duration": 298,
    "start_time": "2025-04-12T13:52:14.648Z"
   },
   {
    "duration": 155,
    "start_time": "2025-04-12T13:52:14.948Z"
   },
   {
    "duration": 115,
    "start_time": "2025-04-12T13:52:15.105Z"
   },
   {
    "duration": 4,
    "start_time": "2025-04-12T13:52:15.222Z"
   },
   {
    "duration": 359,
    "start_time": "2025-04-12T13:52:15.227Z"
   },
   {
    "duration": 117,
    "start_time": "2025-04-12T13:52:15.587Z"
   },
   {
    "duration": 3,
    "start_time": "2025-04-12T13:52:15.706Z"
   },
   {
    "duration": 151,
    "start_time": "2025-04-12T13:52:15.712Z"
   },
   {
    "duration": 25,
    "start_time": "2025-04-12T13:52:15.864Z"
   },
   {
    "duration": 9,
    "start_time": "2025-04-12T13:52:15.892Z"
   },
   {
    "duration": 20,
    "start_time": "2025-04-12T13:52:15.905Z"
   },
   {
    "duration": 6,
    "start_time": "2025-04-12T13:52:15.927Z"
   },
   {
    "duration": 5,
    "start_time": "2025-04-12T13:53:33.669Z"
   },
   {
    "duration": 5,
    "start_time": "2025-04-12T13:54:24.172Z"
   },
   {
    "duration": 3,
    "start_time": "2025-04-12T13:55:38.243Z"
   },
   {
    "duration": 5,
    "start_time": "2025-04-12T13:55:57.648Z"
   },
   {
    "duration": 5,
    "start_time": "2025-04-12T13:58:44.773Z"
   },
   {
    "duration": 6,
    "start_time": "2025-04-12T14:00:50.439Z"
   },
   {
    "duration": 11,
    "start_time": "2025-04-12T14:01:00.949Z"
   },
   {
    "duration": 11,
    "start_time": "2025-04-12T14:01:19.414Z"
   },
   {
    "duration": 11,
    "start_time": "2025-04-12T14:01:37.589Z"
   },
   {
    "duration": 3,
    "start_time": "2025-04-12T14:20:38.788Z"
   },
   {
    "duration": 12,
    "start_time": "2025-04-12T14:20:38.793Z"
   },
   {
    "duration": 10,
    "start_time": "2025-04-12T14:20:38.806Z"
   },
   {
    "duration": 10,
    "start_time": "2025-04-12T14:20:38.818Z"
   },
   {
    "duration": 17,
    "start_time": "2025-04-12T14:20:38.829Z"
   },
   {
    "duration": 3,
    "start_time": "2025-04-12T14:20:38.848Z"
   },
   {
    "duration": 45,
    "start_time": "2025-04-12T14:20:38.852Z"
   },
   {
    "duration": 8,
    "start_time": "2025-04-12T14:20:38.899Z"
   },
   {
    "duration": 5,
    "start_time": "2025-04-12T14:20:38.908Z"
   },
   {
    "duration": 9,
    "start_time": "2025-04-12T14:20:38.917Z"
   },
   {
    "duration": 9,
    "start_time": "2025-04-12T14:20:38.927Z"
   },
   {
    "duration": 9,
    "start_time": "2025-04-12T14:20:38.938Z"
   },
   {
    "duration": 425,
    "start_time": "2025-04-12T14:20:38.987Z"
   },
   {
    "duration": 289,
    "start_time": "2025-04-12T14:20:39.413Z"
   },
   {
    "duration": 243,
    "start_time": "2025-04-12T14:20:39.704Z"
   },
   {
    "duration": 322,
    "start_time": "2025-04-12T14:20:39.949Z"
   },
   {
    "duration": 336,
    "start_time": "2025-04-12T14:20:40.273Z"
   },
   {
    "duration": 246,
    "start_time": "2025-04-12T14:20:40.610Z"
   },
   {
    "duration": 117,
    "start_time": "2025-04-12T14:20:40.858Z"
   },
   {
    "duration": 112,
    "start_time": "2025-04-12T14:20:40.976Z"
   },
   {
    "duration": 4,
    "start_time": "2025-04-12T14:20:41.090Z"
   },
   {
    "duration": 423,
    "start_time": "2025-04-12T14:20:41.097Z"
   },
   {
    "duration": 118,
    "start_time": "2025-04-12T14:20:41.522Z"
   },
   {
    "duration": 3,
    "start_time": "2025-04-12T14:20:41.643Z"
   },
   {
    "duration": 139,
    "start_time": "2025-04-12T14:20:41.648Z"
   },
   {
    "duration": 10,
    "start_time": "2025-04-12T14:20:41.789Z"
   },
   {
    "duration": 8,
    "start_time": "2025-04-12T14:20:41.801Z"
   },
   {
    "duration": 20,
    "start_time": "2025-04-12T14:20:41.813Z"
   },
   {
    "duration": 11,
    "start_time": "2025-04-12T14:20:41.834Z"
   },
   {
    "duration": 139,
    "start_time": "2025-04-12T14:25:00.648Z"
   },
   {
    "duration": 127,
    "start_time": "2025-04-12T14:25:27.436Z"
   },
   {
    "duration": 358,
    "start_time": "2025-04-12T14:25:54.365Z"
   },
   {
    "duration": 162,
    "start_time": "2025-04-12T14:27:18.658Z"
   },
   {
    "duration": 6,
    "start_time": "2025-04-12T14:27:50.052Z"
   },
   {
    "duration": 159,
    "start_time": "2025-04-12T14:27:57.458Z"
   },
   {
    "duration": 117,
    "start_time": "2025-04-12T14:28:08.232Z"
   },
   {
    "duration": 3,
    "start_time": "2025-04-12T14:29:15.157Z"
   },
   {
    "duration": 12,
    "start_time": "2025-04-12T14:29:15.162Z"
   },
   {
    "duration": 12,
    "start_time": "2025-04-12T14:29:15.176Z"
   },
   {
    "duration": 8,
    "start_time": "2025-04-12T14:29:15.190Z"
   },
   {
    "duration": 16,
    "start_time": "2025-04-12T14:29:15.201Z"
   },
   {
    "duration": 4,
    "start_time": "2025-04-12T14:29:15.219Z"
   },
   {
    "duration": 12,
    "start_time": "2025-04-12T14:29:15.224Z"
   },
   {
    "duration": 8,
    "start_time": "2025-04-12T14:29:15.238Z"
   },
   {
    "duration": 40,
    "start_time": "2025-04-12T14:29:15.247Z"
   },
   {
    "duration": 11,
    "start_time": "2025-04-12T14:29:15.288Z"
   },
   {
    "duration": 10,
    "start_time": "2025-04-12T14:29:15.300Z"
   },
   {
    "duration": 9,
    "start_time": "2025-04-12T14:29:15.311Z"
   },
   {
    "duration": 466,
    "start_time": "2025-04-12T14:29:15.322Z"
   },
   {
    "duration": 304,
    "start_time": "2025-04-12T14:29:15.792Z"
   },
   {
    "duration": 262,
    "start_time": "2025-04-12T14:29:16.099Z"
   },
   {
    "duration": 333,
    "start_time": "2025-04-12T14:29:16.363Z"
   },
   {
    "duration": 403,
    "start_time": "2025-04-12T14:29:16.698Z"
   },
   {
    "duration": 244,
    "start_time": "2025-04-12T14:29:17.103Z"
   },
   {
    "duration": 146,
    "start_time": "2025-04-12T14:29:17.348Z"
   },
   {
    "duration": 116,
    "start_time": "2025-04-12T14:29:17.496Z"
   },
   {
    "duration": 4,
    "start_time": "2025-04-12T14:29:17.613Z"
   },
   {
    "duration": 363,
    "start_time": "2025-04-12T14:29:17.619Z"
   },
   {
    "duration": 121,
    "start_time": "2025-04-12T14:29:17.984Z"
   },
   {
    "duration": 4,
    "start_time": "2025-04-12T14:29:18.106Z"
   },
   {
    "duration": 140,
    "start_time": "2025-04-12T14:29:18.112Z"
   },
   {
    "duration": 8,
    "start_time": "2025-04-12T14:29:18.255Z"
   },
   {
    "duration": 22,
    "start_time": "2025-04-12T14:29:18.265Z"
   },
   {
    "duration": 20,
    "start_time": "2025-04-12T14:29:18.288Z"
   },
   {
    "duration": 10,
    "start_time": "2025-04-12T14:29:18.310Z"
   },
   {
    "duration": 8,
    "start_time": "2025-04-12T14:30:18.431Z"
   },
   {
    "duration": 21,
    "start_time": "2025-04-12T14:31:18.518Z"
   },
   {
    "duration": 25,
    "start_time": "2025-04-12T14:32:17.948Z"
   },
   {
    "duration": 11,
    "start_time": "2025-04-12T14:32:30.079Z"
   }
  ],
  "kernelspec": {
   "display_name": "Python 3 (ipykernel)",
   "language": "python",
   "name": "python3"
  },
  "language_info": {
   "codemirror_mode": {
    "name": "ipython",
    "version": 3
   },
   "file_extension": ".py",
   "mimetype": "text/x-python",
   "name": "python",
   "nbconvert_exporter": "python",
   "pygments_lexer": "ipython3",
   "version": "3.9.19"
  },
  "toc": {
   "base_numbering": 1,
   "nav_menu": {},
   "number_sections": true,
   "sideBar": true,
   "skip_h1_title": true,
   "title_cell": "Table of Contents",
   "title_sidebar": "Contents",
   "toc_cell": false,
   "toc_position": {},
   "toc_section_display": true,
   "toc_window_display": false
  }
 },
 "nbformat": 4,
 "nbformat_minor": 2
}
